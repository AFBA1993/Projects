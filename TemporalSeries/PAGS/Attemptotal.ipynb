{
  "nbformat": 4,
  "nbformat_minor": 0,
  "metadata": {
    "colab": {
      "name": "Attemptotal.ipynb",
      "provenance": [],
      "authorship_tag": "ABX9TyNA6/3poyI0CIJrhjMvZNSO",
      "include_colab_link": true
    },
    "kernelspec": {
      "name": "python3",
      "display_name": "Python 3"
    },
    "language_info": {
      "name": "python"
    }
  },
  "cells": [
    {
      "cell_type": "markdown",
      "metadata": {
        "id": "view-in-github",
        "colab_type": "text"
      },
      "source": [
        "<a href=\"https://colab.research.google.com/github/AFBA1993/Projects/blob/main/TemporalSeries/PAGS/Attemptotal.ipynb\" target=\"_parent\"><img src=\"https://colab.research.google.com/assets/colab-badge.svg\" alt=\"Open In Colab\"/></a>"
      ]
    },
    {
      "cell_type": "code",
      "source": [
        "from keras.models import Sequential\n",
        "from keras.layers import Dense, LSTM, Dropout\n",
        "from sklearn.preprocessing import MinMaxScaler\n",
        "import numpy as np\n",
        "import pandas as pd\n",
        "import matplotlib.pyplot as plt\n",
        "import requests\n",
        "import io"
      ],
      "metadata": {
        "id": "GywiPOMfhU9z"
      },
      "execution_count": 37,
      "outputs": []
    },
    {
      "cell_type": "code",
      "execution_count": 38,
      "metadata": {
        "id": "MMFDxo06fBsp"
      },
      "outputs": [],
      "source": [
        "url = ('https://raw.githubusercontent.com/AFBA1993/Projects/main/'+\n",
        "       'TemporalSeries/PAGS/PAGSattempt.csv')"
      ]
    },
    {
      "cell_type": "code",
      "source": [
        "url_data = requests.get(url).content\n",
        "data = pd.read_csv(io.StringIO(url_data.decode('utf-8')))"
      ],
      "metadata": {
        "id": "gLw2XkqEhTIj"
      },
      "execution_count": 39,
      "outputs": []
    },
    {
      "cell_type": "code",
      "source": [
        "data.tail()"
      ],
      "metadata": {
        "colab": {
          "base_uri": "https://localhost:8080/",
          "height": 206
        },
        "id": "J0aDQfXiiiZG",
        "outputId": "25c2833a-8711-4da3-8da2-12b25fc95d9e"
      },
      "execution_count": 40,
      "outputs": [
        {
          "output_type": "execute_result",
          "data": {
            "text/plain": [
              "            Date   Open   High    Low  Close  Adj Close   Volume\n",
              "1038  2022-03-09  13.01  13.73  13.01  13.44      13.44  2140900\n",
              "1039  2022-03-10  13.09  13.16  12.61  12.95      12.95  1971400\n",
              "1040  2022-03-11  13.29  13.65  12.55  12.61      12.61  2065300\n",
              "1041  2022-03-14  12.40  12.87  11.76  11.90      11.90  1795300\n",
              "1042  2022-03-15  11.85  12.61  11.85  12.51      12.51  2470450"
            ],
            "text/html": [
              "\n",
              "  <div id=\"df-c9b01d0b-20d1-4c17-9123-77bd54e29c73\">\n",
              "    <div class=\"colab-df-container\">\n",
              "      <div>\n",
              "<style scoped>\n",
              "    .dataframe tbody tr th:only-of-type {\n",
              "        vertical-align: middle;\n",
              "    }\n",
              "\n",
              "    .dataframe tbody tr th {\n",
              "        vertical-align: top;\n",
              "    }\n",
              "\n",
              "    .dataframe thead th {\n",
              "        text-align: right;\n",
              "    }\n",
              "</style>\n",
              "<table border=\"1\" class=\"dataframe\">\n",
              "  <thead>\n",
              "    <tr style=\"text-align: right;\">\n",
              "      <th></th>\n",
              "      <th>Date</th>\n",
              "      <th>Open</th>\n",
              "      <th>High</th>\n",
              "      <th>Low</th>\n",
              "      <th>Close</th>\n",
              "      <th>Adj Close</th>\n",
              "      <th>Volume</th>\n",
              "    </tr>\n",
              "  </thead>\n",
              "  <tbody>\n",
              "    <tr>\n",
              "      <th>1038</th>\n",
              "      <td>2022-03-09</td>\n",
              "      <td>13.01</td>\n",
              "      <td>13.73</td>\n",
              "      <td>13.01</td>\n",
              "      <td>13.44</td>\n",
              "      <td>13.44</td>\n",
              "      <td>2140900</td>\n",
              "    </tr>\n",
              "    <tr>\n",
              "      <th>1039</th>\n",
              "      <td>2022-03-10</td>\n",
              "      <td>13.09</td>\n",
              "      <td>13.16</td>\n",
              "      <td>12.61</td>\n",
              "      <td>12.95</td>\n",
              "      <td>12.95</td>\n",
              "      <td>1971400</td>\n",
              "    </tr>\n",
              "    <tr>\n",
              "      <th>1040</th>\n",
              "      <td>2022-03-11</td>\n",
              "      <td>13.29</td>\n",
              "      <td>13.65</td>\n",
              "      <td>12.55</td>\n",
              "      <td>12.61</td>\n",
              "      <td>12.61</td>\n",
              "      <td>2065300</td>\n",
              "    </tr>\n",
              "    <tr>\n",
              "      <th>1041</th>\n",
              "      <td>2022-03-14</td>\n",
              "      <td>12.40</td>\n",
              "      <td>12.87</td>\n",
              "      <td>11.76</td>\n",
              "      <td>11.90</td>\n",
              "      <td>11.90</td>\n",
              "      <td>1795300</td>\n",
              "    </tr>\n",
              "    <tr>\n",
              "      <th>1042</th>\n",
              "      <td>2022-03-15</td>\n",
              "      <td>11.85</td>\n",
              "      <td>12.61</td>\n",
              "      <td>11.85</td>\n",
              "      <td>12.51</td>\n",
              "      <td>12.51</td>\n",
              "      <td>2470450</td>\n",
              "    </tr>\n",
              "  </tbody>\n",
              "</table>\n",
              "</div>\n",
              "      <button class=\"colab-df-convert\" onclick=\"convertToInteractive('df-c9b01d0b-20d1-4c17-9123-77bd54e29c73')\"\n",
              "              title=\"Convert this dataframe to an interactive table.\"\n",
              "              style=\"display:none;\">\n",
              "        \n",
              "  <svg xmlns=\"http://www.w3.org/2000/svg\" height=\"24px\"viewBox=\"0 0 24 24\"\n",
              "       width=\"24px\">\n",
              "    <path d=\"M0 0h24v24H0V0z\" fill=\"none\"/>\n",
              "    <path d=\"M18.56 5.44l.94 2.06.94-2.06 2.06-.94-2.06-.94-.94-2.06-.94 2.06-2.06.94zm-11 1L8.5 8.5l.94-2.06 2.06-.94-2.06-.94L8.5 2.5l-.94 2.06-2.06.94zm10 10l.94 2.06.94-2.06 2.06-.94-2.06-.94-.94-2.06-.94 2.06-2.06.94z\"/><path d=\"M17.41 7.96l-1.37-1.37c-.4-.4-.92-.59-1.43-.59-.52 0-1.04.2-1.43.59L10.3 9.45l-7.72 7.72c-.78.78-.78 2.05 0 2.83L4 21.41c.39.39.9.59 1.41.59.51 0 1.02-.2 1.41-.59l7.78-7.78 2.81-2.81c.8-.78.8-2.07 0-2.86zM5.41 20L4 18.59l7.72-7.72 1.47 1.35L5.41 20z\"/>\n",
              "  </svg>\n",
              "      </button>\n",
              "      \n",
              "  <style>\n",
              "    .colab-df-container {\n",
              "      display:flex;\n",
              "      flex-wrap:wrap;\n",
              "      gap: 12px;\n",
              "    }\n",
              "\n",
              "    .colab-df-convert {\n",
              "      background-color: #E8F0FE;\n",
              "      border: none;\n",
              "      border-radius: 50%;\n",
              "      cursor: pointer;\n",
              "      display: none;\n",
              "      fill: #1967D2;\n",
              "      height: 32px;\n",
              "      padding: 0 0 0 0;\n",
              "      width: 32px;\n",
              "    }\n",
              "\n",
              "    .colab-df-convert:hover {\n",
              "      background-color: #E2EBFA;\n",
              "      box-shadow: 0px 1px 2px rgba(60, 64, 67, 0.3), 0px 1px 3px 1px rgba(60, 64, 67, 0.15);\n",
              "      fill: #174EA6;\n",
              "    }\n",
              "\n",
              "    [theme=dark] .colab-df-convert {\n",
              "      background-color: #3B4455;\n",
              "      fill: #D2E3FC;\n",
              "    }\n",
              "\n",
              "    [theme=dark] .colab-df-convert:hover {\n",
              "      background-color: #434B5C;\n",
              "      box-shadow: 0px 1px 3px 1px rgba(0, 0, 0, 0.15);\n",
              "      filter: drop-shadow(0px 1px 2px rgba(0, 0, 0, 0.3));\n",
              "      fill: #FFFFFF;\n",
              "    }\n",
              "  </style>\n",
              "\n",
              "      <script>\n",
              "        const buttonEl =\n",
              "          document.querySelector('#df-c9b01d0b-20d1-4c17-9123-77bd54e29c73 button.colab-df-convert');\n",
              "        buttonEl.style.display =\n",
              "          google.colab.kernel.accessAllowed ? 'block' : 'none';\n",
              "\n",
              "        async function convertToInteractive(key) {\n",
              "          const element = document.querySelector('#df-c9b01d0b-20d1-4c17-9123-77bd54e29c73');\n",
              "          const dataTable =\n",
              "            await google.colab.kernel.invokeFunction('convertToInteractive',\n",
              "                                                     [key], {});\n",
              "          if (!dataTable) return;\n",
              "\n",
              "          const docLinkHtml = 'Like what you see? Visit the ' +\n",
              "            '<a target=\"_blank\" href=https://colab.research.google.com/notebooks/data_table.ipynb>data table notebook</a>'\n",
              "            + ' to learn more about interactive tables.';\n",
              "          element.innerHTML = '';\n",
              "          dataTable['output_type'] = 'display_data';\n",
              "          await google.colab.output.renderOutput(dataTable, element);\n",
              "          const docLink = document.createElement('div');\n",
              "          docLink.innerHTML = docLinkHtml;\n",
              "          element.appendChild(docLink);\n",
              "        }\n",
              "      </script>\n",
              "    </div>\n",
              "  </div>\n",
              "  "
            ]
          },
          "metadata": {},
          "execution_count": 40
        }
      ]
    },
    {
      "cell_type": "code",
      "source": [
        "data = data[[\"Date\",\"Close\"]]"
      ],
      "metadata": {
        "id": "5DsmBdzznEkR"
      },
      "execution_count": 41,
      "outputs": []
    },
    {
      "cell_type": "code",
      "source": [
        "data.index = pd.to_datetime(data[\"Date\"])\n",
        "data.drop(\"Date\", axis = 1, inplace =  True)"
      ],
      "metadata": {
        "id": "obcK_L49oDKp"
      },
      "execution_count": 42,
      "outputs": []
    },
    {
      "cell_type": "code",
      "source": [
        "train = data"
      ],
      "metadata": {
        "id": "biqWIDHRnQH6"
      },
      "execution_count": 43,
      "outputs": []
    },
    {
      "cell_type": "code",
      "source": [
        "train.Close.plot(figsize = (15,7), title = 'Daily Analysis (PAGS)', \n",
        "                 fontsize =14, label = 'Train')\n",
        "plt.xlabel('Datetime')\n",
        "plt.ylabel('USD')\n",
        "plt.legend(loc = 'best')"
      ],
      "metadata": {
        "colab": {
          "base_uri": "https://localhost:8080/",
          "height": 470
        },
        "id": "PsPLYLV2nmib",
        "outputId": "8eca7026-cdcd-4344-a300-4543fbc85547"
      },
      "execution_count": 44,
      "outputs": [
        {
          "output_type": "execute_result",
          "data": {
            "text/plain": [
              "<matplotlib.legend.Legend at 0x7f6f27b7bfd0>"
            ]
          },
          "metadata": {},
          "execution_count": 44
        },
        {
          "output_type": "display_data",
          "data": {
            "text/plain": [
              "<Figure size 1080x504 with 1 Axes>"
            ],
            "image/png": "[encoded data removed]"
          },
          "metadata": {
            "needs_background": "light"
          }
        }
      ]
    },
    {
      "cell_type": "code",
      "source": [
        "normalizer = MinMaxScaler(feature_range = (0,1))\n",
        "train_norm = normalizer.fit_transform(train)\n",
        "forecasters_train = []\n",
        "actual_value_train = []\n",
        "train.size"
      ],
      "metadata": {
        "colab": {
          "base_uri": "https://localhost:8080/"
        },
        "id": "pEPBJq86oN4n",
        "outputId": "d366100c-feca-45bc-f832-710b495f8ea8"
      },
      "execution_count": 45,
      "outputs": [
        {
          "output_type": "execute_result",
          "data": {
            "text/plain": [
              "1043"
            ]
          },
          "metadata": {},
          "execution_count": 45
        }
      ]
    },
    {
      "cell_type": "code",
      "source": [
        "for i in range(100, 1043):\n",
        "  forecasters_train.append(train_norm[i-100:i,0])\n",
        "  actual_value_train.append(train_norm[i, 0])"
      ],
      "metadata": {
        "id": "aFhmSg-koago"
      },
      "execution_count": 46,
      "outputs": []
    },
    {
      "cell_type": "code",
      "source": [
        "forecasters_train , actual_value_train = np.array(forecasters_train), \\\n",
        "                                         np.array(actual_value_train)\n",
        "print(forecasters_train.shape[0],\n",
        "      forecasters_train.shape[1])"
      ],
      "metadata": {
        "colab": {
          "base_uri": "https://localhost:8080/"
        },
        "id": "6-DgHhGLokYp",
        "outputId": "25a41845-a220-442b-8861-b3bbb905c2d7"
      },
      "execution_count": 47,
      "outputs": [
        {
          "output_type": "stream",
          "name": "stdout",
          "text": [
            "943 100\n"
          ]
        }
      ]
    },
    {
      "cell_type": "code",
      "source": [
        "forecasters_train = np.reshape(forecasters_train, (943, 100, 1))"
      ],
      "metadata": {
        "id": "CCvETgyoowdK"
      },
      "execution_count": 48,
      "outputs": []
    },
    {
      "cell_type": "code",
      "source": [
        "regressor = Sequential()\n",
        "regressor.add(LSTM(units = 150, return_sequences = True,\n",
        "                   input_shape = (forecasters_train.shape[1], 1)))\n",
        "regressor.add(Dropout(0.3))\n",
        "\n",
        "regressor.add(LSTM(units = 50, return_sequences = True))\n",
        "regressor.add(Dropout(0.3))\n",
        "\n",
        "\n",
        "regressor.add(LSTM(units = 50, return_sequences = True))\n",
        "regressor.add(Dropout(0.3))\n",
        "\n",
        "regressor.add(LSTM(units = 50))\n",
        "regressor.add(Dropout(0.3))\n",
        "\n",
        "\n",
        "\n",
        "regressor.add(Dense(units = 1, activation = 'linear'))\n",
        "\n",
        "regressor.compile(optimizer = 'rmsprop', loss = 'mse',\n",
        "                  metrics = ['mse'])\n",
        "\n",
        "\n",
        "regressor.fit(forecasters_train, actual_value_train, \n",
        "                      epochs = 100, batch_size = 32)"
      ],
      "metadata": {
        "colab": {
          "base_uri": "https://localhost:8080/"
        },
        "id": "695x-dB7o3tu",
        "outputId": "5ca2cefe-b6d7-4e7d-f2d2-3478772fd390"
      },
      "execution_count": 49,
      "outputs": [
        {
          "output_type": "stream",
          "name": "stdout",
          "text": [
            "Epoch 1/100\n",
            "30/30 [==============================] - 18s 300ms/step - loss: 0.0585 - mse: 0.0585\n",
            "Epoch 2/100\n",
            "30/30 [==============================] - 9s 299ms/step - loss: 0.0216 - mse: 0.0216\n",
            "Epoch 3/100\n",
            "30/30 [==============================] - 9s 296ms/step - loss: 0.0226 - mse: 0.0226\n",
            "Epoch 4/100\n",
            "30/30 [==============================] - 9s 298ms/step - loss: 0.0171 - mse: 0.0171\n",
            "Epoch 5/100\n",
            "30/30 [==============================] - 9s 296ms/step - loss: 0.0156 - mse: 0.0156\n",
            "Epoch 6/100\n",
            "30/30 [==============================] - 10s 328ms/step - loss: 0.0149 - mse: 0.0149\n",
            "Epoch 7/100\n",
            "30/30 [==============================] - 10s 315ms/step - loss: 0.0117 - mse: 0.0117\n",
            "Epoch 8/100\n",
            "30/30 [==============================] - 10s 328ms/step - loss: 0.0130 - mse: 0.0130\n",
            "Epoch 9/100\n",
            "30/30 [==============================] - 9s 303ms/step - loss: 0.0101 - mse: 0.0101\n",
            "Epoch 10/100\n",
            "30/30 [==============================] - 9s 299ms/step - loss: 0.0097 - mse: 0.0097\n",
            "Epoch 11/100\n",
            "30/30 [==============================] - 9s 297ms/step - loss: 0.0089 - mse: 0.0089\n",
            "Epoch 12/100\n",
            "30/30 [==============================] - 9s 299ms/step - loss: 0.0101 - mse: 0.0101\n",
            "Epoch 13/100\n",
            "30/30 [==============================] - 9s 300ms/step - loss: 0.0091 - mse: 0.0091\n",
            "Epoch 14/100\n",
            "30/30 [==============================] - 9s 296ms/step - loss: 0.0079 - mse: 0.0079\n",
            "Epoch 15/100\n",
            "30/30 [==============================] - 9s 295ms/step - loss: 0.0087 - mse: 0.0087\n",
            "Epoch 16/100\n",
            "30/30 [==============================] - 9s 302ms/step - loss: 0.0071 - mse: 0.0071\n",
            "Epoch 17/100\n",
            "30/30 [==============================] - 9s 302ms/step - loss: 0.0073 - mse: 0.0073\n",
            "Epoch 18/100\n",
            "30/30 [==============================] - 9s 300ms/step - loss: 0.0071 - mse: 0.0071\n",
            "Epoch 19/100\n",
            "30/30 [==============================] - 9s 304ms/step - loss: 0.0074 - mse: 0.0074\n",
            "Epoch 20/100\n",
            "30/30 [==============================] - 9s 300ms/step - loss: 0.0063 - mse: 0.0063\n",
            "Epoch 21/100\n",
            "30/30 [==============================] - 9s 296ms/step - loss: 0.0067 - mse: 0.0067\n",
            "Epoch 22/100\n",
            "30/30 [==============================] - 9s 299ms/step - loss: 0.0068 - mse: 0.0068\n",
            "Epoch 23/100\n",
            "30/30 [==============================] - 9s 300ms/step - loss: 0.0057 - mse: 0.0057\n",
            "Epoch 24/100\n",
            "30/30 [==============================] - 9s 297ms/step - loss: 0.0063 - mse: 0.0063\n",
            "Epoch 25/100\n",
            "30/30 [==============================] - 9s 295ms/step - loss: 0.0055 - mse: 0.0055\n",
            "Epoch 26/100\n",
            "30/30 [==============================] - 9s 300ms/step - loss: 0.0056 - mse: 0.0056\n",
            "Epoch 27/100\n",
            "30/30 [==============================] - 9s 298ms/step - loss: 0.0053 - mse: 0.0053\n",
            "Epoch 28/100\n",
            "30/30 [==============================] - 9s 296ms/step - loss: 0.0053 - mse: 0.0053\n",
            "Epoch 29/100\n",
            "30/30 [==============================] - 9s 297ms/step - loss: 0.0052 - mse: 0.0052\n",
            "Epoch 30/100\n",
            "30/30 [==============================] - 9s 300ms/step - loss: 0.0054 - mse: 0.0054\n",
            "Epoch 31/100\n",
            "30/30 [==============================] - 9s 300ms/step - loss: 0.0049 - mse: 0.0049\n",
            "Epoch 32/100\n",
            "30/30 [==============================] - 9s 297ms/step - loss: 0.0048 - mse: 0.0048\n",
            "Epoch 33/100\n",
            "30/30 [==============================] - 9s 305ms/step - loss: 0.0044 - mse: 0.0044\n",
            "Epoch 34/100\n",
            "30/30 [==============================] - 9s 304ms/step - loss: 0.0047 - mse: 0.0047\n",
            "Epoch 35/100\n",
            "30/30 [==============================] - 9s 297ms/step - loss: 0.0043 - mse: 0.0043\n",
            "Epoch 36/100\n",
            "30/30 [==============================] - 9s 299ms/step - loss: 0.0049 - mse: 0.0049\n",
            "Epoch 37/100\n",
            "30/30 [==============================] - 9s 303ms/step - loss: 0.0041 - mse: 0.0041\n",
            "Epoch 38/100\n",
            "30/30 [==============================] - 9s 298ms/step - loss: 0.0044 - mse: 0.0044\n",
            "Epoch 39/100\n",
            "30/30 [==============================] - 9s 300ms/step - loss: 0.0050 - mse: 0.0050\n",
            "Epoch 40/100\n",
            "30/30 [==============================] - 9s 299ms/step - loss: 0.0041 - mse: 0.0041\n",
            "Epoch 41/100\n",
            "30/30 [==============================] - 9s 304ms/step - loss: 0.0039 - mse: 0.0039\n",
            "Epoch 42/100\n",
            "30/30 [==============================] - 9s 303ms/step - loss: 0.0046 - mse: 0.0046\n",
            "Epoch 43/100\n",
            "30/30 [==============================] - 9s 303ms/step - loss: 0.0041 - mse: 0.0041\n",
            "Epoch 44/100\n",
            "30/30 [==============================] - 9s 296ms/step - loss: 0.0043 - mse: 0.0043\n",
            "Epoch 45/100\n",
            "30/30 [==============================] - 9s 298ms/step - loss: 0.0042 - mse: 0.0042\n",
            "Epoch 46/100\n",
            "30/30 [==============================] - 9s 299ms/step - loss: 0.0038 - mse: 0.0038\n",
            "Epoch 47/100\n",
            "30/30 [==============================] - 9s 299ms/step - loss: 0.0039 - mse: 0.0039\n",
            "Epoch 48/100\n",
            "30/30 [==============================] - 9s 298ms/step - loss: 0.0039 - mse: 0.0039\n",
            "Epoch 49/100\n",
            "30/30 [==============================] - 9s 301ms/step - loss: 0.0038 - mse: 0.0038\n",
            "Epoch 50/100\n",
            "30/30 [==============================] - 9s 304ms/step - loss: 0.0038 - mse: 0.0038\n",
            "Epoch 51/100\n",
            "30/30 [==============================] - 9s 306ms/step - loss: 0.0037 - mse: 0.0037\n",
            "Epoch 52/100\n",
            "30/30 [==============================] - 9s 300ms/step - loss: 0.0036 - mse: 0.0036\n",
            "Epoch 53/100\n",
            "30/30 [==============================] - 9s 303ms/step - loss: 0.0038 - mse: 0.0038\n",
            "Epoch 54/100\n",
            "30/30 [==============================] - 9s 311ms/step - loss: 0.0036 - mse: 0.0036\n",
            "Epoch 55/100\n",
            "30/30 [==============================] - 9s 305ms/step - loss: 0.0031 - mse: 0.0031\n",
            "Epoch 56/100\n",
            "30/30 [==============================] - 9s 301ms/step - loss: 0.0036 - mse: 0.0036\n",
            "Epoch 57/100\n",
            "30/30 [==============================] - 9s 303ms/step - loss: 0.0033 - mse: 0.0033\n",
            "Epoch 58/100\n",
            "30/30 [==============================] - 9s 296ms/step - loss: 0.0032 - mse: 0.0032\n",
            "Epoch 59/100\n",
            "30/30 [==============================] - 9s 297ms/step - loss: 0.0031 - mse: 0.0031\n",
            "Epoch 60/100\n",
            "30/30 [==============================] - 9s 299ms/step - loss: 0.0035 - mse: 0.0035\n",
            "Epoch 61/100\n",
            "30/30 [==============================] - 9s 296ms/step - loss: 0.0031 - mse: 0.0031\n",
            "Epoch 62/100\n",
            "30/30 [==============================] - 9s 298ms/step - loss: 0.0032 - mse: 0.0032\n",
            "Epoch 63/100\n",
            "30/30 [==============================] - 9s 299ms/step - loss: 0.0031 - mse: 0.0031\n",
            "Epoch 64/100\n",
            "30/30 [==============================] - 9s 299ms/step - loss: 0.0030 - mse: 0.0030\n",
            "Epoch 65/100\n",
            "30/30 [==============================] - 9s 298ms/step - loss: 0.0031 - mse: 0.0031\n",
            "Epoch 66/100\n",
            "30/30 [==============================] - 9s 297ms/step - loss: 0.0031 - mse: 0.0031\n",
            "Epoch 67/100\n",
            "30/30 [==============================] - 9s 298ms/step - loss: 0.0030 - mse: 0.0030\n",
            "Epoch 68/100\n",
            "30/30 [==============================] - 9s 295ms/step - loss: 0.0029 - mse: 0.0029\n",
            "Epoch 69/100\n",
            "30/30 [==============================] - 9s 296ms/step - loss: 0.0027 - mse: 0.0027\n",
            "Epoch 70/100\n",
            "30/30 [==============================] - 9s 302ms/step - loss: 0.0028 - mse: 0.0028\n",
            "Epoch 71/100\n",
            "30/30 [==============================] - 9s 297ms/step - loss: 0.0030 - mse: 0.0030\n",
            "Epoch 72/100\n",
            "30/30 [==============================] - 9s 300ms/step - loss: 0.0028 - mse: 0.0028\n",
            "Epoch 73/100\n",
            "30/30 [==============================] - 9s 303ms/step - loss: 0.0028 - mse: 0.0028\n",
            "Epoch 74/100\n",
            "30/30 [==============================] - 9s 305ms/step - loss: 0.0026 - mse: 0.0026\n",
            "Epoch 75/100\n",
            "30/30 [==============================] - 9s 296ms/step - loss: 0.0030 - mse: 0.0030\n",
            "Epoch 76/100\n",
            "30/30 [==============================] - 9s 297ms/step - loss: 0.0028 - mse: 0.0028\n",
            "Epoch 77/100\n",
            "30/30 [==============================] - 9s 299ms/step - loss: 0.0027 - mse: 0.0027\n",
            "Epoch 78/100\n",
            "30/30 [==============================] - 9s 293ms/step - loss: 0.0029 - mse: 0.0029\n",
            "Epoch 79/100\n",
            "30/30 [==============================] - 9s 296ms/step - loss: 0.0024 - mse: 0.0024\n",
            "Epoch 80/100\n",
            "30/30 [==============================] - 9s 296ms/step - loss: 0.0029 - mse: 0.0029\n",
            "Epoch 81/100\n",
            "30/30 [==============================] - 9s 295ms/step - loss: 0.0026 - mse: 0.0026\n",
            "Epoch 82/100\n",
            "30/30 [==============================] - 9s 295ms/step - loss: 0.0025 - mse: 0.0025\n",
            "Epoch 83/100\n",
            "30/30 [==============================] - 9s 295ms/step - loss: 0.0026 - mse: 0.0026\n",
            "Epoch 84/100\n",
            "30/30 [==============================] - 9s 296ms/step - loss: 0.0026 - mse: 0.0026\n",
            "Epoch 85/100\n",
            "30/30 [==============================] - 9s 295ms/step - loss: 0.0025 - mse: 0.0025\n",
            "Epoch 86/100\n",
            "30/30 [==============================] - 9s 296ms/step - loss: 0.0026 - mse: 0.0026\n",
            "Epoch 87/100\n",
            "30/30 [==============================] - 9s 300ms/step - loss: 0.0026 - mse: 0.0026\n",
            "Epoch 88/100\n",
            "30/30 [==============================] - 9s 298ms/step - loss: 0.0027 - mse: 0.0027\n",
            "Epoch 89/100\n",
            "30/30 [==============================] - 9s 306ms/step - loss: 0.0026 - mse: 0.0026\n",
            "Epoch 90/100\n",
            "30/30 [==============================] - 9s 302ms/step - loss: 0.0026 - mse: 0.0026\n",
            "Epoch 91/100\n",
            "30/30 [==============================] - 9s 304ms/step - loss: 0.0025 - mse: 0.0025\n",
            "Epoch 92/100\n",
            "30/30 [==============================] - 9s 302ms/step - loss: 0.0026 - mse: 0.0026\n",
            "Epoch 93/100\n",
            "30/30 [==============================] - 9s 306ms/step - loss: 0.0024 - mse: 0.0024\n",
            "Epoch 94/100\n",
            "30/30 [==============================] - 9s 297ms/step - loss: 0.0022 - mse: 0.0022\n",
            "Epoch 95/100\n",
            "30/30 [==============================] - 9s 296ms/step - loss: 0.0023 - mse: 0.0023\n",
            "Epoch 96/100\n",
            "30/30 [==============================] - 9s 299ms/step - loss: 0.0023 - mse: 0.0023\n",
            "Epoch 97/100\n",
            "30/30 [==============================] - 9s 308ms/step - loss: 0.0024 - mse: 0.0024\n",
            "Epoch 98/100\n",
            "30/30 [==============================] - 9s 301ms/step - loss: 0.0025 - mse: 0.0025\n",
            "Epoch 99/100\n",
            "30/30 [==============================] - 9s 304ms/step - loss: 0.0026 - mse: 0.0026\n",
            "Epoch 100/100\n",
            "30/30 [==============================] - 9s 301ms/step - loss: 0.0022 - mse: 0.0022\n"
          ]
        },
        {
          "output_type": "execute_result",
          "data": {
            "text/plain": [
              "<keras.callbacks.History at 0x7f6ea261c5d0>"
            ]
          },
          "metadata": {},
          "execution_count": 49
        }
      ]
    },
    {
      "cell_type": "markdown",
      "source": [
        "Predicting Future Values:"
      ],
      "metadata": {
        "id": "Gg_a53B3CZBG"
      }
    },
    {
      "cell_type": "code",
      "source": [
        "modified_train = train"
      ],
      "metadata": {
        "id": "n5EeHbp6LX7a"
      },
      "execution_count": 139,
      "outputs": []
    },
    {
      "cell_type": "code",
      "source": [
        "future_days = 365\n",
        "initial_fut_date = '2022-03-16'"
      ],
      "metadata": {
        "id": "GEm-Y3_3GshB"
      },
      "execution_count": 144,
      "outputs": []
    },
    {
      "cell_type": "code",
      "source": [
        "for i in range (future_days):\n",
        "\n",
        "  rng = pd.date_range(initial_fut_date, periods=1, freq='D')\n",
        "  new_val = pd.DataFrame({ 'Close' : np.nan }, index=rng)\n",
        "\n",
        "  total_data = pd.concat((modified_train, new_val), axis = 0)\n",
        "  input_test = total_data[len(total_data) - len(new_val) - 100:]\n",
        "  input_test_norm = normalizer.transform(input_test)\n",
        "\n",
        "\n",
        "  X_test = []\n",
        "  for i in range(100, input_test.shape[0]):\n",
        "    X_test.append(input_test_norm[i-100:i,0])\n",
        "  X_test = np.array(X_test)\n",
        "  X_test = np.reshape(X_test, (X_test.shape[0], X_test.shape[1],1))\n",
        "\n",
        "  predicted_val = regressor.predict(X_test)\n",
        "  predicted_val = normalizer.inverse_transform(predicted_val)\n",
        "  forecasted_LSTM = pd.DataFrame(predicted_val, columns = ['Close'])\n",
        "  forecasted_LSTM[\"Date\"] = new_val.index\n",
        "  forecasted_LSTM.index = pd.to_datetime(forecasted_LSTM[\"Date\"])\n",
        "  forecasted_LSTM.drop(\"Date\", axis = 1, inplace =  True)\n",
        "\n",
        "  modified_train = pd.concat((modified_train, forecasted_LSTM), axis = 0)\n",
        "\n",
        "  update_date = pd.date_range(initial_fut_date, periods=2, freq='D')\n",
        "  update_date_val = pd.DataFrame({ 'Close' : np.nan }, index=update_date)\n",
        "\n",
        "  initial_fut_date = str(update_date_val.index[-1])"
      ],
      "metadata": {
        "id": "1aRr2AQZHNDx"
      },
      "execution_count": 145,
      "outputs": []
    },
    {
      "cell_type": "code",
      "source": [
        "Future = modified_train.tail(future_days)"
      ],
      "metadata": {
        "id": "fp_Bu8JHUsum"
      },
      "execution_count": 146,
      "outputs": []
    },
    {
      "cell_type": "markdown",
      "source": [
        "\n",
        "---\n",
        "\n"
      ],
      "metadata": {
        "id": "BmBjK7NSCkp5"
      }
    },
    {
      "cell_type": "code",
      "source": [
        "train.Close.plot(figsize = (15,7), label = 'Train')\n",
        "Future.Close.plot(figsize = (15,7), title = 'Daily Analysis (PAGS)', \n",
        "                 fontsize =14, label = 'Future')\n",
        "\n",
        "plt.xlabel('Datetime')\n",
        "plt.ylabel('USD')\n",
        "plt.legend(loc = 'best')"
      ],
      "metadata": {
        "id": "RJWHsK4NWOUi",
        "outputId": "d49bddcf-3a48-46aa-ec29-1473570e2924",
        "colab": {
          "base_uri": "https://localhost:8080/",
          "height": 458
        }
      },
      "execution_count": 148,
      "outputs": [
        {
          "output_type": "execute_result",
          "data": {
            "text/plain": [
              "<matplotlib.legend.Legend at 0x7f6e9bf644d0>"
            ]
          },
          "metadata": {},
          "execution_count": 148
        },
        {
          "output_type": "display_data",
          "data": {
            "text/plain": [
              "<Figure size 1080x504 with 1 Axes>"
            ],
            "image/png": "[encoded data removed]"
          },
          "metadata": {
            "needs_background": "light"
          }
        }
      ]
    }
  ]
}