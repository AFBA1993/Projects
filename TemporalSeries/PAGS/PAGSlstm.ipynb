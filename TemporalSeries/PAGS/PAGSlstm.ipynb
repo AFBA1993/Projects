{
  "nbformat": 4,
  "nbformat_minor": 0,
  "metadata": {
    "colab": {
      "name": "PAGS.ipynb",
      "provenance": [],
      "mount_file_id": "1iWf7Rn3Eau5GQZtIaGXNRrC-sKmz_AB0",
      "authorship_tag": "ABX9TyPymeQMtCQKhrbo1cbpfo+H",
      "include_colab_link": true
    },
    "kernelspec": {
      "name": "python3",
      "display_name": "Python 3"
    },
    "language_info": {
      "name": "python"
    }
  },
  "cells": [
    {
      "cell_type": "markdown",
      "metadata": {
        "id": "view-in-github",
        "colab_type": "text"
      },
      "source": [
        "<a href=\"https://colab.research.google.com/github/AFBA1993/Projects/blob/main/TemporalSeries/PAGS/PAGSlstm.ipynb\" target=\"_parent\"><img src=\"https://colab.research.google.com/assets/colab-badge.svg\" alt=\"Open In Colab\"/></a>"
      ]
    },
    {
      "cell_type": "code",
      "source": [
        "from keras.models import Sequential\n",
        "from keras.layers import Dense, LSTM, Dropout\n",
        "from sklearn.preprocessing import MinMaxScaler\n",
        "import numpy as np\n",
        "import pandas as pd\n",
        "import matplotlib.pyplot as plt"
      ],
      "metadata": {
        "id": "UFJoW_SjwZeI"
      },
      "execution_count": 41,
      "outputs": []
    },
    {
      "cell_type": "code",
      "execution_count": 30,
      "metadata": {
        "colab": {
          "base_uri": "https://localhost:8080/",
          "height": 206
        },
        "id": "bx-jIjUIsYEi",
        "outputId": "895b33f4-47ba-4420-e3e3-3f6cfb142c84"
      },
      "outputs": [
        {
          "output_type": "execute_result",
          "data": {
            "text/plain": [
              "            Date   Open   High    Low  Close  Adj Close   Volume\n",
              "1038  2022-03-09  13.01  13.73  13.01  13.44      13.44  2140900\n",
              "1039  2022-03-10  13.09  13.16  12.61  12.95      12.95  1971400\n",
              "1040  2022-03-11  13.29  13.65  12.55  12.61      12.61  2065300\n",
              "1041  2022-03-14  12.40  12.87  11.76  11.90      11.90  1795300\n",
              "1042  2022-03-15  11.85  12.61  11.85  12.51      12.51  2470450"
            ],
            "text/html": [
              "\n",
              "  <div id=\"df-cd6d722e-9781-4736-9f55-d95ee0e9a536\">\n",
              "    <div class=\"colab-df-container\">\n",
              "      <div>\n",
              "<style scoped>\n",
              "    .dataframe tbody tr th:only-of-type {\n",
              "        vertical-align: middle;\n",
              "    }\n",
              "\n",
              "    .dataframe tbody tr th {\n",
              "        vertical-align: top;\n",
              "    }\n",
              "\n",
              "    .dataframe thead th {\n",
              "        text-align: right;\n",
              "    }\n",
              "</style>\n",
              "<table border=\"1\" class=\"dataframe\">\n",
              "  <thead>\n",
              "    <tr style=\"text-align: right;\">\n",
              "      <th></th>\n",
              "      <th>Date</th>\n",
              "      <th>Open</th>\n",
              "      <th>High</th>\n",
              "      <th>Low</th>\n",
              "      <th>Close</th>\n",
              "      <th>Adj Close</th>\n",
              "      <th>Volume</th>\n",
              "    </tr>\n",
              "  </thead>\n",
              "  <tbody>\n",
              "    <tr>\n",
              "      <th>1038</th>\n",
              "      <td>2022-03-09</td>\n",
              "      <td>13.01</td>\n",
              "      <td>13.73</td>\n",
              "      <td>13.01</td>\n",
              "      <td>13.44</td>\n",
              "      <td>13.44</td>\n",
              "      <td>2140900</td>\n",
              "    </tr>\n",
              "    <tr>\n",
              "      <th>1039</th>\n",
              "      <td>2022-03-10</td>\n",
              "      <td>13.09</td>\n",
              "      <td>13.16</td>\n",
              "      <td>12.61</td>\n",
              "      <td>12.95</td>\n",
              "      <td>12.95</td>\n",
              "      <td>1971400</td>\n",
              "    </tr>\n",
              "    <tr>\n",
              "      <th>1040</th>\n",
              "      <td>2022-03-11</td>\n",
              "      <td>13.29</td>\n",
              "      <td>13.65</td>\n",
              "      <td>12.55</td>\n",
              "      <td>12.61</td>\n",
              "      <td>12.61</td>\n",
              "      <td>2065300</td>\n",
              "    </tr>\n",
              "    <tr>\n",
              "      <th>1041</th>\n",
              "      <td>2022-03-14</td>\n",
              "      <td>12.40</td>\n",
              "      <td>12.87</td>\n",
              "      <td>11.76</td>\n",
              "      <td>11.90</td>\n",
              "      <td>11.90</td>\n",
              "      <td>1795300</td>\n",
              "    </tr>\n",
              "    <tr>\n",
              "      <th>1042</th>\n",
              "      <td>2022-03-15</td>\n",
              "      <td>11.85</td>\n",
              "      <td>12.61</td>\n",
              "      <td>11.85</td>\n",
              "      <td>12.51</td>\n",
              "      <td>12.51</td>\n",
              "      <td>2470450</td>\n",
              "    </tr>\n",
              "  </tbody>\n",
              "</table>\n",
              "</div>\n",
              "      <button class=\"colab-df-convert\" onclick=\"convertToInteractive('df-cd6d722e-9781-4736-9f55-d95ee0e9a536')\"\n",
              "              title=\"Convert this dataframe to an interactive table.\"\n",
              "              style=\"display:none;\">\n",
              "        \n",
              "  <svg xmlns=\"http://www.w3.org/2000/svg\" height=\"24px\"viewBox=\"0 0 24 24\"\n",
              "       width=\"24px\">\n",
              "    <path d=\"M0 0h24v24H0V0z\" fill=\"none\"/>\n",
              "    <path d=\"M18.56 5.44l.94 2.06.94-2.06 2.06-.94-2.06-.94-.94-2.06-.94 2.06-2.06.94zm-11 1L8.5 8.5l.94-2.06 2.06-.94-2.06-.94L8.5 2.5l-.94 2.06-2.06.94zm10 10l.94 2.06.94-2.06 2.06-.94-2.06-.94-.94-2.06-.94 2.06-2.06.94z\"/><path d=\"M17.41 7.96l-1.37-1.37c-.4-.4-.92-.59-1.43-.59-.52 0-1.04.2-1.43.59L10.3 9.45l-7.72 7.72c-.78.78-.78 2.05 0 2.83L4 21.41c.39.39.9.59 1.41.59.51 0 1.02-.2 1.41-.59l7.78-7.78 2.81-2.81c.8-.78.8-2.07 0-2.86zM5.41 20L4 18.59l7.72-7.72 1.47 1.35L5.41 20z\"/>\n",
              "  </svg>\n",
              "      </button>\n",
              "      \n",
              "  <style>\n",
              "    .colab-df-container {\n",
              "      display:flex;\n",
              "      flex-wrap:wrap;\n",
              "      gap: 12px;\n",
              "    }\n",
              "\n",
              "    .colab-df-convert {\n",
              "      background-color: #E8F0FE;\n",
              "      border: none;\n",
              "      border-radius: 50%;\n",
              "      cursor: pointer;\n",
              "      display: none;\n",
              "      fill: #1967D2;\n",
              "      height: 32px;\n",
              "      padding: 0 0 0 0;\n",
              "      width: 32px;\n",
              "    }\n",
              "\n",
              "    .colab-df-convert:hover {\n",
              "      background-color: #E2EBFA;\n",
              "      box-shadow: 0px 1px 2px rgba(60, 64, 67, 0.3), 0px 1px 3px 1px rgba(60, 64, 67, 0.15);\n",
              "      fill: #174EA6;\n",
              "    }\n",
              "\n",
              "    [theme=dark] .colab-df-convert {\n",
              "      background-color: #3B4455;\n",
              "      fill: #D2E3FC;\n",
              "    }\n",
              "\n",
              "    [theme=dark] .colab-df-convert:hover {\n",
              "      background-color: #434B5C;\n",
              "      box-shadow: 0px 1px 3px 1px rgba(0, 0, 0, 0.15);\n",
              "      filter: drop-shadow(0px 1px 2px rgba(0, 0, 0, 0.3));\n",
              "      fill: #FFFFFF;\n",
              "    }\n",
              "  </style>\n",
              "\n",
              "      <script>\n",
              "        const buttonEl =\n",
              "          document.querySelector('#df-cd6d722e-9781-4736-9f55-d95ee0e9a536 button.colab-df-convert');\n",
              "        buttonEl.style.display =\n",
              "          google.colab.kernel.accessAllowed ? 'block' : 'none';\n",
              "\n",
              "        async function convertToInteractive(key) {\n",
              "          const element = document.querySelector('#df-cd6d722e-9781-4736-9f55-d95ee0e9a536');\n",
              "          const dataTable =\n",
              "            await google.colab.kernel.invokeFunction('convertToInteractive',\n",
              "                                                     [key], {});\n",
              "          if (!dataTable) return;\n",
              "\n",
              "          const docLinkHtml = 'Like what you see? Visit the ' +\n",
              "            '<a target=\"_blank\" href=https://colab.research.google.com/notebooks/data_table.ipynb>data table notebook</a>'\n",
              "            + ' to learn more about interactive tables.';\n",
              "          element.innerHTML = '';\n",
              "          dataTable['output_type'] = 'display_data';\n",
              "          await google.colab.output.renderOutput(dataTable, element);\n",
              "          const docLink = document.createElement('div');\n",
              "          docLink.innerHTML = docLinkHtml;\n",
              "          element.appendChild(docLink);\n",
              "        }\n",
              "      </script>\n",
              "    </div>\n",
              "  </div>\n",
              "  "
            ]
          },
          "metadata": {},
          "execution_count": 30
        }
      ],
      "source": [
        "path = \"/content/drive/MyDrive/DatasetsTemporalSeries/PAGSattempt.csv\"\n",
        "data = pd.read_csv(path)\n",
        "data.tail() "
      ]
    },
    {
      "cell_type": "code",
      "source": [
        "data = data[[\"Date\",\"Close\"]]"
      ],
      "metadata": {
        "id": "CmxUXFjj86KD"
      },
      "execution_count": 32,
      "outputs": []
    },
    {
      "cell_type": "code",
      "source": [
        "data.index = pd.to_datetime(data[\"Date\"])\n",
        "data.drop(\"Date\", axis = 1, inplace =  True)\n"
      ],
      "metadata": {
        "id": "U_8T88bT9vH0"
      },
      "execution_count": 33,
      "outputs": []
    },
    {
      "cell_type": "code",
      "source": [
        "data.tail()"
      ],
      "metadata": {
        "colab": {
          "base_uri": "https://localhost:8080/",
          "height": 238
        },
        "id": "0ONBEWpF5ihI",
        "outputId": "a3ad6c4a-19fd-4336-b4cf-73d838ca11b3"
      },
      "execution_count": 39,
      "outputs": [
        {
          "output_type": "execute_result",
          "data": {
            "text/plain": [
              "            Close\n",
              "Date             \n",
              "2022-03-09  13.44\n",
              "2022-03-10  12.95\n",
              "2022-03-11  12.61\n",
              "2022-03-14  11.90\n",
              "2022-03-15  12.51"
            ],
            "text/html": [
              "\n",
              "  <div id=\"df-82ccc5e4-93a8-4f74-a520-1d19b6d5a6ba\">\n",
              "    <div class=\"colab-df-container\">\n",
              "      <div>\n",
              "<style scoped>\n",
              "    .dataframe tbody tr th:only-of-type {\n",
              "        vertical-align: middle;\n",
              "    }\n",
              "\n",
              "    .dataframe tbody tr th {\n",
              "        vertical-align: top;\n",
              "    }\n",
              "\n",
              "    .dataframe thead th {\n",
              "        text-align: right;\n",
              "    }\n",
              "</style>\n",
              "<table border=\"1\" class=\"dataframe\">\n",
              "  <thead>\n",
              "    <tr style=\"text-align: right;\">\n",
              "      <th></th>\n",
              "      <th>Close</th>\n",
              "    </tr>\n",
              "    <tr>\n",
              "      <th>Date</th>\n",
              "      <th></th>\n",
              "    </tr>\n",
              "  </thead>\n",
              "  <tbody>\n",
              "    <tr>\n",
              "      <th>2022-03-09</th>\n",
              "      <td>13.44</td>\n",
              "    </tr>\n",
              "    <tr>\n",
              "      <th>2022-03-10</th>\n",
              "      <td>12.95</td>\n",
              "    </tr>\n",
              "    <tr>\n",
              "      <th>2022-03-11</th>\n",
              "      <td>12.61</td>\n",
              "    </tr>\n",
              "    <tr>\n",
              "      <th>2022-03-14</th>\n",
              "      <td>11.90</td>\n",
              "    </tr>\n",
              "    <tr>\n",
              "      <th>2022-03-15</th>\n",
              "      <td>12.51</td>\n",
              "    </tr>\n",
              "  </tbody>\n",
              "</table>\n",
              "</div>\n",
              "      <button class=\"colab-df-convert\" onclick=\"convertToInteractive('df-82ccc5e4-93a8-4f74-a520-1d19b6d5a6ba')\"\n",
              "              title=\"Convert this dataframe to an interactive table.\"\n",
              "              style=\"display:none;\">\n",
              "        \n",
              "  <svg xmlns=\"http://www.w3.org/2000/svg\" height=\"24px\"viewBox=\"0 0 24 24\"\n",
              "       width=\"24px\">\n",
              "    <path d=\"M0 0h24v24H0V0z\" fill=\"none\"/>\n",
              "    <path d=\"M18.56 5.44l.94 2.06.94-2.06 2.06-.94-2.06-.94-.94-2.06-.94 2.06-2.06.94zm-11 1L8.5 8.5l.94-2.06 2.06-.94-2.06-.94L8.5 2.5l-.94 2.06-2.06.94zm10 10l.94 2.06.94-2.06 2.06-.94-2.06-.94-.94-2.06-.94 2.06-2.06.94z\"/><path d=\"M17.41 7.96l-1.37-1.37c-.4-.4-.92-.59-1.43-.59-.52 0-1.04.2-1.43.59L10.3 9.45l-7.72 7.72c-.78.78-.78 2.05 0 2.83L4 21.41c.39.39.9.59 1.41.59.51 0 1.02-.2 1.41-.59l7.78-7.78 2.81-2.81c.8-.78.8-2.07 0-2.86zM5.41 20L4 18.59l7.72-7.72 1.47 1.35L5.41 20z\"/>\n",
              "  </svg>\n",
              "      </button>\n",
              "      \n",
              "  <style>\n",
              "    .colab-df-container {\n",
              "      display:flex;\n",
              "      flex-wrap:wrap;\n",
              "      gap: 12px;\n",
              "    }\n",
              "\n",
              "    .colab-df-convert {\n",
              "      background-color: #E8F0FE;\n",
              "      border: none;\n",
              "      border-radius: 50%;\n",
              "      cursor: pointer;\n",
              "      display: none;\n",
              "      fill: #1967D2;\n",
              "      height: 32px;\n",
              "      padding: 0 0 0 0;\n",
              "      width: 32px;\n",
              "    }\n",
              "\n",
              "    .colab-df-convert:hover {\n",
              "      background-color: #E2EBFA;\n",
              "      box-shadow: 0px 1px 2px rgba(60, 64, 67, 0.3), 0px 1px 3px 1px rgba(60, 64, 67, 0.15);\n",
              "      fill: #174EA6;\n",
              "    }\n",
              "\n",
              "    [theme=dark] .colab-df-convert {\n",
              "      background-color: #3B4455;\n",
              "      fill: #D2E3FC;\n",
              "    }\n",
              "\n",
              "    [theme=dark] .colab-df-convert:hover {\n",
              "      background-color: #434B5C;\n",
              "      box-shadow: 0px 1px 3px 1px rgba(0, 0, 0, 0.15);\n",
              "      filter: drop-shadow(0px 1px 2px rgba(0, 0, 0, 0.3));\n",
              "      fill: #FFFFFF;\n",
              "    }\n",
              "  </style>\n",
              "\n",
              "      <script>\n",
              "        const buttonEl =\n",
              "          document.querySelector('#df-82ccc5e4-93a8-4f74-a520-1d19b6d5a6ba button.colab-df-convert');\n",
              "        buttonEl.style.display =\n",
              "          google.colab.kernel.accessAllowed ? 'block' : 'none';\n",
              "\n",
              "        async function convertToInteractive(key) {\n",
              "          const element = document.querySelector('#df-82ccc5e4-93a8-4f74-a520-1d19b6d5a6ba');\n",
              "          const dataTable =\n",
              "            await google.colab.kernel.invokeFunction('convertToInteractive',\n",
              "                                                     [key], {});\n",
              "          if (!dataTable) return;\n",
              "\n",
              "          const docLinkHtml = 'Like what you see? Visit the ' +\n",
              "            '<a target=\"_blank\" href=https://colab.research.google.com/notebooks/data_table.ipynb>data table notebook</a>'\n",
              "            + ' to learn more about interactive tables.';\n",
              "          element.innerHTML = '';\n",
              "          dataTable['output_type'] = 'display_data';\n",
              "          await google.colab.output.renderOutput(dataTable, element);\n",
              "          const docLink = document.createElement('div');\n",
              "          docLink.innerHTML = docLinkHtml;\n",
              "          element.appendChild(docLink);\n",
              "        }\n",
              "      </script>\n",
              "    </div>\n",
              "  </div>\n",
              "  "
            ]
          },
          "metadata": {},
          "execution_count": 39
        }
      ]
    },
    {
      "cell_type": "code",
      "source": [
        "data.Close.plot(figsize = (15,7), title = 'Daily Analysis (PAGS)', fontsize =14, \n",
        "                                                              label = 'Train')"
      ],
      "metadata": {
        "colab": {
          "base_uri": "https://localhost:8080/",
          "height": 470
        },
        "id": "dBtr7atP-t1y",
        "outputId": "0a2a4ec6-bd40-4a3d-f050-ea3aad97d409"
      },
      "execution_count": 37,
      "outputs": [
        {
          "output_type": "execute_result",
          "data": {
            "text/plain": [
              "<matplotlib.axes._subplots.AxesSubplot at 0x7f04d6534cd0>"
            ]
          },
          "metadata": {},
          "execution_count": 37
        },
        {
          "output_type": "display_data",
          "data": {
            "text/plain": [
              "<Figure size 1080x504 with 1 Axes>"
            ],
            "image/png": "[encoded data removed]"
          },
          "metadata": {
            "needs_background": "light"
          }
        }
      ]
    },
    {
      "cell_type": "code",
      "source": [
        "train = data.loc['2018-01-24' : '2021-07-01'].copy()\n",
        "test = data.loc['2021-07-02' : '2022-03-15'].copy()"
      ],
      "metadata": {
        "id": "ST7G6tt4_KjU"
      },
      "execution_count": 40,
      "outputs": []
    },
    {
      "cell_type": "code",
      "source": [
        "train.Close.plot(figsize = (15,7), label = 'Train')\n",
        "test.Close.plot(figsize = (15,7), title = 'Daily Analysis (PAGS)', fontsize =14, \n",
        "                                                          label = 'Test')\n",
        "plt.xlabel('Datetime')\n",
        "plt.ylabel('USD')\n",
        "plt.legend(loc = 'best')"
      ],
      "metadata": {
        "colab": {
          "base_uri": "https://localhost:8080/",
          "height": 470
        },
        "id": "xoO8q6BNAGbV",
        "outputId": "bc7f5c9c-03ae-454c-d49b-28da5c4de120"
      },
      "execution_count": 45,
      "outputs": [
        {
          "output_type": "execute_result",
          "data": {
            "text/plain": [
              "<matplotlib.legend.Legend at 0x7f045edb9c90>"
            ]
          },
          "metadata": {},
          "execution_count": 45
        },
        {
          "output_type": "display_data",
          "data": {
            "text/plain": [
              "<Figure size 1080x504 with 1 Axes>"
            ],
            "image/png": "[encoded data removed]"
          },
          "metadata": {
            "needs_background": "light"
          }
        }
      ]
    },
    {
      "cell_type": "code",
      "source": [
        "normalizer = MinMaxScaler(feature_range = (0,1))\n",
        "train_norm = normalizer.fit_transform(train)"
      ],
      "metadata": {
        "id": "_T6Hb_HOBFju"
      },
      "execution_count": 46,
      "outputs": []
    },
    {
      "cell_type": "code",
      "source": [
        "forecasters_train = []\n",
        "actual_value_train = []"
      ],
      "metadata": {
        "id": "M3Ddke6DBN9_"
      },
      "execution_count": 47,
      "outputs": []
    },
    {
      "cell_type": "code",
      "source": [
        "train.size"
      ],
      "metadata": {
        "colab": {
          "base_uri": "https://localhost:8080/"
        },
        "id": "80MI8gXIBRlP",
        "outputId": "b22dee6c-b84c-4ba0-dd32-f0de297cfe4d"
      },
      "execution_count": 48,
      "outputs": [
        {
          "output_type": "execute_result",
          "data": {
            "text/plain": [
              "866"
            ]
          },
          "metadata": {},
          "execution_count": 48
        }
      ]
    },
    {
      "cell_type": "code",
      "source": [
        "for i in range(100, 866):\n",
        "  forecasters_train.append(train_norm[i-100:i,0])\n",
        "  actual_value_train.append(train_norm[i, 0])"
      ],
      "metadata": {
        "id": "fyMyBjihBYC3"
      },
      "execution_count": 49,
      "outputs": []
    },
    {
      "cell_type": "code",
      "source": [
        "forecasters_train , actual_value_train = np.array(forecasters_train), \\\n",
        "                                         np.array(actual_value_train)"
      ],
      "metadata": {
        "id": "1GOKuGtBBf3A"
      },
      "execution_count": 50,
      "outputs": []
    },
    {
      "cell_type": "code",
      "source": [
        "print(forecasters_train.shape[0],\n",
        "      forecasters_train.shape[1])"
      ],
      "metadata": {
        "colab": {
          "base_uri": "https://localhost:8080/"
        },
        "id": "e29FFeVvBiu3",
        "outputId": "66970a41-9aef-41ad-8be5-54e02170d610"
      },
      "execution_count": 51,
      "outputs": [
        {
          "output_type": "stream",
          "name": "stdout",
          "text": [
            "766 100\n"
          ]
        }
      ]
    },
    {
      "cell_type": "code",
      "source": [
        "forecasters_train = np.reshape(forecasters_train, (766, 100, 1))"
      ],
      "metadata": {
        "id": "J9aHaod8BpE1"
      },
      "execution_count": 52,
      "outputs": []
    },
    {
      "cell_type": "code",
      "source": [
        "regressor = Sequential()\n",
        "regressor.add(LSTM(units = 150, return_sequences = True,\n",
        "                   input_shape = (forecasters_train.shape[1], 1)))\n",
        "regressor.add(Dropout(0.3))"
      ],
      "metadata": {
        "id": "rWHVpZV8B0IH"
      },
      "execution_count": 53,
      "outputs": []
    },
    {
      "cell_type": "code",
      "source": [
        "regressor.add(LSTM(units = 50, return_sequences = True))\n",
        "regressor.add(Dropout(0.3))"
      ],
      "metadata": {
        "id": "n8fbjSNYB2PR"
      },
      "execution_count": 54,
      "outputs": []
    },
    {
      "cell_type": "code",
      "source": [
        "regressor.add(LSTM(units = 50, return_sequences = True))\n",
        "regressor.add(Dropout(0.3))"
      ],
      "metadata": {
        "id": "K26hL4N1B4gk"
      },
      "execution_count": 55,
      "outputs": []
    },
    {
      "cell_type": "code",
      "source": [
        "regressor.add(LSTM(units = 50))\n",
        "regressor.add(Dropout(0.3))"
      ],
      "metadata": {
        "id": "WTd3uc6FB5za"
      },
      "execution_count": 56,
      "outputs": []
    },
    {
      "cell_type": "code",
      "source": [
        "regressor.add(Dense(units = 1, activation = 'linear'))"
      ],
      "metadata": {
        "id": "-xz4Xc_HB7OA"
      },
      "execution_count": 57,
      "outputs": []
    },
    {
      "cell_type": "code",
      "source": [
        "\n",
        "regressor.compile(optimizer = 'rmsprop', loss = 'mse',\n",
        "                  metrics = ['mse'])"
      ],
      "metadata": {
        "id": "suIejanQB8w9"
      },
      "execution_count": 58,
      "outputs": []
    },
    {
      "cell_type": "code",
      "source": [
        "regressor.fit(forecasters_train, actual_value_train, \n",
        "                      epochs = 100, batch_size = 32)"
      ],
      "metadata": {
        "colab": {
          "base_uri": "https://localhost:8080/"
        },
        "id": "_0j9KzgXB-f-",
        "outputId": "b9c71619-e5cd-4911-9900-98fdb5fea20b"
      },
      "execution_count": 59,
      "outputs": [
        {
          "output_type": "stream",
          "name": "stdout",
          "text": [
            "Epoch 1/100\n",
            "24/24 [==============================] - 14s 273ms/step - loss: 0.0776 - mse: 0.0776\n",
            "Epoch 2/100\n",
            "24/24 [==============================] - 6s 264ms/step - loss: 0.0235 - mse: 0.0235\n",
            "Epoch 3/100\n",
            "24/24 [==============================] - 7s 276ms/step - loss: 0.0224 - mse: 0.0224\n",
            "Epoch 4/100\n",
            "24/24 [==============================] - 7s 271ms/step - loss: 0.0176 - mse: 0.0176\n",
            "Epoch 5/100\n",
            "24/24 [==============================] - 7s 277ms/step - loss: 0.0199 - mse: 0.0199\n",
            "Epoch 6/100\n",
            "24/24 [==============================] - 7s 296ms/step - loss: 0.0142 - mse: 0.0142\n",
            "Epoch 7/100\n",
            "24/24 [==============================] - 8s 324ms/step - loss: 0.0128 - mse: 0.0128\n",
            "Epoch 8/100\n",
            "24/24 [==============================] - 6s 268ms/step - loss: 0.0111 - mse: 0.0111\n",
            "Epoch 9/100\n",
            "24/24 [==============================] - 7s 275ms/step - loss: 0.0121 - mse: 0.0121\n",
            "Epoch 10/100\n",
            "24/24 [==============================] - 8s 320ms/step - loss: 0.0106 - mse: 0.0106\n",
            "Epoch 11/100\n",
            "24/24 [==============================] - 7s 282ms/step - loss: 0.0118 - mse: 0.0118\n",
            "Epoch 12/100\n",
            "24/24 [==============================] - 7s 275ms/step - loss: 0.0080 - mse: 0.0080\n",
            "Epoch 13/100\n",
            "24/24 [==============================] - 7s 276ms/step - loss: 0.0099 - mse: 0.0099\n",
            "Epoch 14/100\n",
            "24/24 [==============================] - 8s 351ms/step - loss: 0.0082 - mse: 0.0082\n",
            "Epoch 15/100\n",
            "24/24 [==============================] - 7s 273ms/step - loss: 0.0097 - mse: 0.0097\n",
            "Epoch 16/100\n",
            "24/24 [==============================] - 7s 284ms/step - loss: 0.0082 - mse: 0.0082\n",
            "Epoch 17/100\n",
            "24/24 [==============================] - 7s 279ms/step - loss: 0.0076 - mse: 0.0076\n",
            "Epoch 18/100\n",
            "24/24 [==============================] - 7s 276ms/step - loss: 0.0081 - mse: 0.0081\n",
            "Epoch 19/100\n",
            "24/24 [==============================] - 7s 278ms/step - loss: 0.0073 - mse: 0.0073\n",
            "Epoch 20/100\n",
            "24/24 [==============================] - 7s 273ms/step - loss: 0.0067 - mse: 0.0067\n",
            "Epoch 21/100\n",
            "24/24 [==============================] - 7s 279ms/step - loss: 0.0068 - mse: 0.0068\n",
            "Epoch 22/100\n",
            "24/24 [==============================] - 7s 284ms/step - loss: 0.0071 - mse: 0.0071\n",
            "Epoch 23/100\n",
            "24/24 [==============================] - 6s 268ms/step - loss: 0.0062 - mse: 0.0062\n",
            "Epoch 24/100\n",
            "24/24 [==============================] - 7s 281ms/step - loss: 0.0064 - mse: 0.0064\n",
            "Epoch 25/100\n",
            "24/24 [==============================] - 6s 269ms/step - loss: 0.0054 - mse: 0.0054\n",
            "Epoch 26/100\n",
            "24/24 [==============================] - 6s 268ms/step - loss: 0.0058 - mse: 0.0058\n",
            "Epoch 27/100\n",
            "24/24 [==============================] - 7s 281ms/step - loss: 0.0056 - mse: 0.0056\n",
            "Epoch 28/100\n",
            "24/24 [==============================] - 7s 278ms/step - loss: 0.0049 - mse: 0.0049\n",
            "Epoch 29/100\n",
            "24/24 [==============================] - 7s 271ms/step - loss: 0.0056 - mse: 0.0056\n",
            "Epoch 30/100\n",
            "24/24 [==============================] - 8s 320ms/step - loss: 0.0056 - mse: 0.0056\n",
            "Epoch 31/100\n",
            "24/24 [==============================] - 7s 271ms/step - loss: 0.0050 - mse: 0.0050\n",
            "Epoch 32/100\n",
            "24/24 [==============================] - 6s 266ms/step - loss: 0.0055 - mse: 0.0055\n",
            "Epoch 33/100\n",
            "24/24 [==============================] - 6s 263ms/step - loss: 0.0050 - mse: 0.0050\n",
            "Epoch 34/100\n",
            "24/24 [==============================] - 7s 275ms/step - loss: 0.0048 - mse: 0.0048\n",
            "Epoch 35/100\n",
            "24/24 [==============================] - 7s 277ms/step - loss: 0.0048 - mse: 0.0048\n",
            "Epoch 36/100\n",
            "24/24 [==============================] - 7s 273ms/step - loss: 0.0055 - mse: 0.0055\n",
            "Epoch 37/100\n",
            "24/24 [==============================] - 7s 275ms/step - loss: 0.0047 - mse: 0.0047\n",
            "Epoch 38/100\n",
            "24/24 [==============================] - 7s 283ms/step - loss: 0.0046 - mse: 0.0046\n",
            "Epoch 39/100\n",
            "24/24 [==============================] - 7s 281ms/step - loss: 0.0050 - mse: 0.0050\n",
            "Epoch 40/100\n",
            "24/24 [==============================] - 7s 273ms/step - loss: 0.0042 - mse: 0.0042\n",
            "Epoch 41/100\n",
            "24/24 [==============================] - 7s 279ms/step - loss: 0.0044 - mse: 0.0044\n",
            "Epoch 42/100\n",
            "24/24 [==============================] - 7s 281ms/step - loss: 0.0041 - mse: 0.0041\n",
            "Epoch 43/100\n",
            "24/24 [==============================] - 7s 276ms/step - loss: 0.0043 - mse: 0.0043\n",
            "Epoch 44/100\n",
            "24/24 [==============================] - 7s 276ms/step - loss: 0.0037 - mse: 0.0037\n",
            "Epoch 45/100\n",
            "24/24 [==============================] - 7s 273ms/step - loss: 0.0041 - mse: 0.0041\n",
            "Epoch 46/100\n",
            "24/24 [==============================] - 7s 280ms/step - loss: 0.0040 - mse: 0.0040\n",
            "Epoch 47/100\n",
            "24/24 [==============================] - 7s 272ms/step - loss: 0.0039 - mse: 0.0039\n",
            "Epoch 48/100\n",
            "24/24 [==============================] - 7s 277ms/step - loss: 0.0038 - mse: 0.0038\n",
            "Epoch 49/100\n",
            "24/24 [==============================] - 7s 284ms/step - loss: 0.0038 - mse: 0.0038\n",
            "Epoch 50/100\n",
            "24/24 [==============================] - 7s 274ms/step - loss: 0.0035 - mse: 0.0035\n",
            "Epoch 51/100\n",
            "24/24 [==============================] - 7s 282ms/step - loss: 0.0037 - mse: 0.0037\n",
            "Epoch 52/100\n",
            "24/24 [==============================] - 7s 278ms/step - loss: 0.0036 - mse: 0.0036\n",
            "Epoch 53/100\n",
            "24/24 [==============================] - 7s 272ms/step - loss: 0.0038 - mse: 0.0038\n",
            "Epoch 54/100\n",
            "24/24 [==============================] - 7s 278ms/step - loss: 0.0034 - mse: 0.0034\n",
            "Epoch 55/100\n",
            "24/24 [==============================] - 7s 280ms/step - loss: 0.0039 - mse: 0.0039\n",
            "Epoch 56/100\n",
            "24/24 [==============================] - 7s 279ms/step - loss: 0.0037 - mse: 0.0037\n",
            "Epoch 57/100\n",
            "24/24 [==============================] - 7s 273ms/step - loss: 0.0031 - mse: 0.0031\n",
            "Epoch 58/100\n",
            "24/24 [==============================] - 7s 278ms/step - loss: 0.0036 - mse: 0.0036\n",
            "Epoch 59/100\n",
            "24/24 [==============================] - 7s 275ms/step - loss: 0.0037 - mse: 0.0037\n",
            "Epoch 60/100\n",
            "24/24 [==============================] - 7s 279ms/step - loss: 0.0033 - mse: 0.0033\n",
            "Epoch 61/100\n",
            "24/24 [==============================] - 7s 287ms/step - loss: 0.0036 - mse: 0.0036\n",
            "Epoch 62/100\n",
            "24/24 [==============================] - 7s 287ms/step - loss: 0.0033 - mse: 0.0033\n",
            "Epoch 63/100\n",
            "24/24 [==============================] - 7s 283ms/step - loss: 0.0035 - mse: 0.0035\n",
            "Epoch 64/100\n",
            "24/24 [==============================] - 7s 282ms/step - loss: 0.0030 - mse: 0.0030\n",
            "Epoch 65/100\n",
            "24/24 [==============================] - 7s 283ms/step - loss: 0.0037 - mse: 0.0037\n",
            "Epoch 66/100\n",
            "24/24 [==============================] - 7s 286ms/step - loss: 0.0029 - mse: 0.0029\n",
            "Epoch 67/100\n",
            "24/24 [==============================] - 7s 273ms/step - loss: 0.0034 - mse: 0.0034\n",
            "Epoch 68/100\n",
            "24/24 [==============================] - 6s 266ms/step - loss: 0.0031 - mse: 0.0031\n",
            "Epoch 69/100\n",
            "24/24 [==============================] - 6s 269ms/step - loss: 0.0032 - mse: 0.0032\n",
            "Epoch 70/100\n",
            "24/24 [==============================] - 6s 261ms/step - loss: 0.0030 - mse: 0.0030\n",
            "Epoch 71/100\n",
            "24/24 [==============================] - 7s 277ms/step - loss: 0.0034 - mse: 0.0034\n",
            "Epoch 72/100\n",
            "24/24 [==============================] - 7s 283ms/step - loss: 0.0033 - mse: 0.0033\n",
            "Epoch 73/100\n",
            "24/24 [==============================] - 7s 280ms/step - loss: 0.0030 - mse: 0.0030\n",
            "Epoch 74/100\n",
            "24/24 [==============================] - 7s 273ms/step - loss: 0.0033 - mse: 0.0033\n",
            "Epoch 75/100\n",
            "24/24 [==============================] - 7s 284ms/step - loss: 0.0030 - mse: 0.0030\n",
            "Epoch 76/100\n",
            "24/24 [==============================] - 6s 270ms/step - loss: 0.0031 - mse: 0.0031\n",
            "Epoch 77/100\n",
            "24/24 [==============================] - 7s 281ms/step - loss: 0.0029 - mse: 0.0029\n",
            "Epoch 78/100\n",
            "24/24 [==============================] - 7s 279ms/step - loss: 0.0029 - mse: 0.0029\n",
            "Epoch 79/100\n",
            "24/24 [==============================] - 10s 411ms/step - loss: 0.0031 - mse: 0.0031\n",
            "Epoch 80/100\n",
            "24/24 [==============================] - 7s 276ms/step - loss: 0.0028 - mse: 0.0028\n",
            "Epoch 81/100\n",
            "24/24 [==============================] - 7s 274ms/step - loss: 0.0029 - mse: 0.0029\n",
            "Epoch 82/100\n",
            "24/24 [==============================] - 7s 281ms/step - loss: 0.0028 - mse: 0.0028\n",
            "Epoch 83/100\n",
            "24/24 [==============================] - 6s 269ms/step - loss: 0.0027 - mse: 0.0027\n",
            "Epoch 84/100\n",
            "24/24 [==============================] - 7s 279ms/step - loss: 0.0026 - mse: 0.0026\n",
            "Epoch 85/100\n",
            "24/24 [==============================] - 7s 276ms/step - loss: 0.0026 - mse: 0.0026\n",
            "Epoch 86/100\n",
            "24/24 [==============================] - 7s 279ms/step - loss: 0.0026 - mse: 0.0026\n",
            "Epoch 87/100\n",
            "24/24 [==============================] - 7s 272ms/step - loss: 0.0026 - mse: 0.0026\n",
            "Epoch 88/100\n",
            "24/24 [==============================] - 7s 277ms/step - loss: 0.0028 - mse: 0.0028\n",
            "Epoch 89/100\n",
            "24/24 [==============================] - 7s 279ms/step - loss: 0.0024 - mse: 0.0024\n",
            "Epoch 90/100\n",
            "24/24 [==============================] - 7s 275ms/step - loss: 0.0029 - mse: 0.0029\n",
            "Epoch 91/100\n",
            "24/24 [==============================] - 6s 267ms/step - loss: 0.0026 - mse: 0.0026\n",
            "Epoch 92/100\n",
            "24/24 [==============================] - 7s 276ms/step - loss: 0.0026 - mse: 0.0026\n",
            "Epoch 93/100\n",
            "24/24 [==============================] - 7s 277ms/step - loss: 0.0025 - mse: 0.0025\n",
            "Epoch 94/100\n",
            "24/24 [==============================] - 7s 282ms/step - loss: 0.0027 - mse: 0.0027\n",
            "Epoch 95/100\n",
            "24/24 [==============================] - 7s 276ms/step - loss: 0.0025 - mse: 0.0025\n",
            "Epoch 96/100\n",
            "24/24 [==============================] - 7s 275ms/step - loss: 0.0023 - mse: 0.0023\n",
            "Epoch 97/100\n",
            "24/24 [==============================] - 7s 277ms/step - loss: 0.0024 - mse: 0.0024\n",
            "Epoch 98/100\n",
            "24/24 [==============================] - 6s 270ms/step - loss: 0.0027 - mse: 0.0027\n",
            "Epoch 99/100\n",
            "24/24 [==============================] - 7s 282ms/step - loss: 0.0023 - mse: 0.0023\n",
            "Epoch 100/100\n",
            "24/24 [==============================] - 7s 278ms/step - loss: 0.0026 - mse: 0.0026\n"
          ]
        },
        {
          "output_type": "execute_result",
          "data": {
            "text/plain": [
              "<keras.callbacks.History at 0x7f045ebdb350>"
            ]
          },
          "metadata": {},
          "execution_count": 59
        }
      ]
    },
    {
      "cell_type": "code",
      "source": [
        "complete_data = pd.concat((train, test), axis = 0)\n",
        "input_test = complete_data[len(complete_data) - len(test) - 100:]\n",
        "input_test_norm = normalizer.transform(input_test)"
      ],
      "metadata": {
        "id": "iVKQ1eLBEsPM"
      },
      "execution_count": 60,
      "outputs": []
    },
    {
      "cell_type": "code",
      "source": [
        "input_test_norm.shape"
      ],
      "metadata": {
        "colab": {
          "base_uri": "https://localhost:8080/"
        },
        "id": "MKGWWQrgE23o",
        "outputId": "387b0130-694d-40dc-fd1a-9346c9fc58e4"
      },
      "execution_count": 61,
      "outputs": [
        {
          "output_type": "execute_result",
          "data": {
            "text/plain": [
              "(277, 1)"
            ]
          },
          "metadata": {},
          "execution_count": 61
        }
      ]
    },
    {
      "cell_type": "code",
      "source": [
        "X_test = []\n",
        "for i in range(100, 277):\n",
        "  X_test.append(input_test_norm[i-100:i,0])\n",
        "X_test = np.array(X_test)\n",
        "X_test = np.reshape(X_test, (X_test.shape[0], X_test.shape[1],1))"
      ],
      "metadata": {
        "id": "4_4EAY1YE6vT"
      },
      "execution_count": 63,
      "outputs": []
    },
    {
      "cell_type": "code",
      "source": [
        "predicted_test = regressor.predict(X_test)\n",
        "predicted_test = normalizer.inverse_transform(predicted_test)\n",
        "len(predicted_test)"
      ],
      "metadata": {
        "colab": {
          "base_uri": "https://localhost:8080/"
        },
        "id": "vGn_O6MkFRm9",
        "outputId": "65dfdb0e-660e-43c8-d5bf-a9226665a890"
      },
      "execution_count": 64,
      "outputs": [
        {
          "output_type": "execute_result",
          "data": {
            "text/plain": [
              "177"
            ]
          },
          "metadata": {},
          "execution_count": 64
        }
      ]
    },
    {
      "cell_type": "code",
      "source": [
        "forecasted_LSTM = pd.DataFrame(predicted_test, columns = ['Close'])"
      ],
      "metadata": {
        "id": "k_MRWYD3FbLH"
      },
      "execution_count": 65,
      "outputs": []
    },
    {
      "cell_type": "code",
      "source": [
        "forecasted_LSTM[\"Date\"] = test.index"
      ],
      "metadata": {
        "id": "aG6xrqIUFhpJ"
      },
      "execution_count": 66,
      "outputs": []
    },
    {
      "cell_type": "code",
      "source": [
        "forecasted_LSTM"
      ],
      "metadata": {
        "colab": {
          "base_uri": "https://localhost:8080/",
          "height": 424
        },
        "id": "aKjxq-CcFtEU",
        "outputId": "8e84d431-6636-4888-c9ef-c2d05827e953"
      },
      "execution_count": 67,
      "outputs": [
        {
          "output_type": "execute_result",
          "data": {
            "text/plain": [
              "         Close       Date\n",
              "0    56.565132 2021-07-02\n",
              "1    57.339504 2021-07-06\n",
              "2    56.446835 2021-07-07\n",
              "3    55.794823 2021-07-08\n",
              "4    52.518349 2021-07-09\n",
              "..         ...        ...\n",
              "172  14.740492 2022-03-09\n",
              "173  15.231791 2022-03-10\n",
              "174  15.339025 2022-03-11\n",
              "175  15.040317 2022-03-14\n",
              "176  14.506045 2022-03-15\n",
              "\n",
              "[177 rows x 2 columns]"
            ],
            "text/html": [
              "\n",
              "  <div id=\"df-141e9b06-ac51-4c62-b2dd-04bea3afaf3b\">\n",
              "    <div class=\"colab-df-container\">\n",
              "      <div>\n",
              "<style scoped>\n",
              "    .dataframe tbody tr th:only-of-type {\n",
              "        vertical-align: middle;\n",
              "    }\n",
              "\n",
              "    .dataframe tbody tr th {\n",
              "        vertical-align: top;\n",
              "    }\n",
              "\n",
              "    .dataframe thead th {\n",
              "        text-align: right;\n",
              "    }\n",
              "</style>\n",
              "<table border=\"1\" class=\"dataframe\">\n",
              "  <thead>\n",
              "    <tr style=\"text-align: right;\">\n",
              "      <th></th>\n",
              "      <th>Close</th>\n",
              "      <th>Date</th>\n",
              "    </tr>\n",
              "  </thead>\n",
              "  <tbody>\n",
              "    <tr>\n",
              "      <th>0</th>\n",
              "      <td>56.565132</td>\n",
              "      <td>2021-07-02</td>\n",
              "    </tr>\n",
              "    <tr>\n",
              "      <th>1</th>\n",
              "      <td>57.339504</td>\n",
              "      <td>2021-07-06</td>\n",
              "    </tr>\n",
              "    <tr>\n",
              "      <th>2</th>\n",
              "      <td>56.446835</td>\n",
              "      <td>2021-07-07</td>\n",
              "    </tr>\n",
              "    <tr>\n",
              "      <th>3</th>\n",
              "      <td>55.794823</td>\n",
              "      <td>2021-07-08</td>\n",
              "    </tr>\n",
              "    <tr>\n",
              "      <th>4</th>\n",
              "      <td>52.518349</td>\n",
              "      <td>2021-07-09</td>\n",
              "    </tr>\n",
              "    <tr>\n",
              "      <th>...</th>\n",
              "      <td>...</td>\n",
              "      <td>...</td>\n",
              "    </tr>\n",
              "    <tr>\n",
              "      <th>172</th>\n",
              "      <td>14.740492</td>\n",
              "      <td>2022-03-09</td>\n",
              "    </tr>\n",
              "    <tr>\n",
              "      <th>173</th>\n",
              "      <td>15.231791</td>\n",
              "      <td>2022-03-10</td>\n",
              "    </tr>\n",
              "    <tr>\n",
              "      <th>174</th>\n",
              "      <td>15.339025</td>\n",
              "      <td>2022-03-11</td>\n",
              "    </tr>\n",
              "    <tr>\n",
              "      <th>175</th>\n",
              "      <td>15.040317</td>\n",
              "      <td>2022-03-14</td>\n",
              "    </tr>\n",
              "    <tr>\n",
              "      <th>176</th>\n",
              "      <td>14.506045</td>\n",
              "      <td>2022-03-15</td>\n",
              "    </tr>\n",
              "  </tbody>\n",
              "</table>\n",
              "<p>177 rows × 2 columns</p>\n",
              "</div>\n",
              "      <button class=\"colab-df-convert\" onclick=\"convertToInteractive('df-141e9b06-ac51-4c62-b2dd-04bea3afaf3b')\"\n",
              "              title=\"Convert this dataframe to an interactive table.\"\n",
              "              style=\"display:none;\">\n",
              "        \n",
              "  <svg xmlns=\"http://www.w3.org/2000/svg\" height=\"24px\"viewBox=\"0 0 24 24\"\n",
              "       width=\"24px\">\n",
              "    <path d=\"M0 0h24v24H0V0z\" fill=\"none\"/>\n",
              "    <path d=\"M18.56 5.44l.94 2.06.94-2.06 2.06-.94-2.06-.94-.94-2.06-.94 2.06-2.06.94zm-11 1L8.5 8.5l.94-2.06 2.06-.94-2.06-.94L8.5 2.5l-.94 2.06-2.06.94zm10 10l.94 2.06.94-2.06 2.06-.94-2.06-.94-.94-2.06-.94 2.06-2.06.94z\"/><path d=\"M17.41 7.96l-1.37-1.37c-.4-.4-.92-.59-1.43-.59-.52 0-1.04.2-1.43.59L10.3 9.45l-7.72 7.72c-.78.78-.78 2.05 0 2.83L4 21.41c.39.39.9.59 1.41.59.51 0 1.02-.2 1.41-.59l7.78-7.78 2.81-2.81c.8-.78.8-2.07 0-2.86zM5.41 20L4 18.59l7.72-7.72 1.47 1.35L5.41 20z\"/>\n",
              "  </svg>\n",
              "      </button>\n",
              "      \n",
              "  <style>\n",
              "    .colab-df-container {\n",
              "      display:flex;\n",
              "      flex-wrap:wrap;\n",
              "      gap: 12px;\n",
              "    }\n",
              "\n",
              "    .colab-df-convert {\n",
              "      background-color: #E8F0FE;\n",
              "      border: none;\n",
              "      border-radius: 50%;\n",
              "      cursor: pointer;\n",
              "      display: none;\n",
              "      fill: #1967D2;\n",
              "      height: 32px;\n",
              "      padding: 0 0 0 0;\n",
              "      width: 32px;\n",
              "    }\n",
              "\n",
              "    .colab-df-convert:hover {\n",
              "      background-color: #E2EBFA;\n",
              "      box-shadow: 0px 1px 2px rgba(60, 64, 67, 0.3), 0px 1px 3px 1px rgba(60, 64, 67, 0.15);\n",
              "      fill: #174EA6;\n",
              "    }\n",
              "\n",
              "    [theme=dark] .colab-df-convert {\n",
              "      background-color: #3B4455;\n",
              "      fill: #D2E3FC;\n",
              "    }\n",
              "\n",
              "    [theme=dark] .colab-df-convert:hover {\n",
              "      background-color: #434B5C;\n",
              "      box-shadow: 0px 1px 3px 1px rgba(0, 0, 0, 0.15);\n",
              "      filter: drop-shadow(0px 1px 2px rgba(0, 0, 0, 0.3));\n",
              "      fill: #FFFFFF;\n",
              "    }\n",
              "  </style>\n",
              "\n",
              "      <script>\n",
              "        const buttonEl =\n",
              "          document.querySelector('#df-141e9b06-ac51-4c62-b2dd-04bea3afaf3b button.colab-df-convert');\n",
              "        buttonEl.style.display =\n",
              "          google.colab.kernel.accessAllowed ? 'block' : 'none';\n",
              "\n",
              "        async function convertToInteractive(key) {\n",
              "          const element = document.querySelector('#df-141e9b06-ac51-4c62-b2dd-04bea3afaf3b');\n",
              "          const dataTable =\n",
              "            await google.colab.kernel.invokeFunction('convertToInteractive',\n",
              "                                                     [key], {});\n",
              "          if (!dataTable) return;\n",
              "\n",
              "          const docLinkHtml = 'Like what you see? Visit the ' +\n",
              "            '<a target=\"_blank\" href=https://colab.research.google.com/notebooks/data_table.ipynb>data table notebook</a>'\n",
              "            + ' to learn more about interactive tables.';\n",
              "          element.innerHTML = '';\n",
              "          dataTable['output_type'] = 'display_data';\n",
              "          await google.colab.output.renderOutput(dataTable, element);\n",
              "          const docLink = document.createElement('div');\n",
              "          docLink.innerHTML = docLinkHtml;\n",
              "          element.appendChild(docLink);\n",
              "        }\n",
              "      </script>\n",
              "    </div>\n",
              "  </div>\n",
              "  "
            ]
          },
          "metadata": {},
          "execution_count": 67
        }
      ]
    },
    {
      "cell_type": "code",
      "source": [
        "forecasted_LSTM.index = pd.to_datetime(forecasted_LSTM[\"Date\"])\n",
        "forecasted_LSTM.drop(\"Date\", axis = 1, inplace =  True)\n",
        "forecasted_LSTM.tail()"
      ],
      "metadata": {
        "colab": {
          "base_uri": "https://localhost:8080/",
          "height": 238
        },
        "id": "8C_qWWu7Gsck",
        "outputId": "2adf1060-dc5e-4dc0-c6a2-c00fc6e96966"
      },
      "execution_count": 69,
      "outputs": [
        {
          "output_type": "execute_result",
          "data": {
            "text/plain": [
              "                Close\n",
              "Date                 \n",
              "2022-03-09  14.740492\n",
              "2022-03-10  15.231791\n",
              "2022-03-11  15.339025\n",
              "2022-03-14  15.040317\n",
              "2022-03-15  14.506045"
            ],
            "text/html": [
              "\n",
              "  <div id=\"df-bf22e537-0a60-4805-8f58-d6436ee702f2\">\n",
              "    <div class=\"colab-df-container\">\n",
              "      <div>\n",
              "<style scoped>\n",
              "    .dataframe tbody tr th:only-of-type {\n",
              "        vertical-align: middle;\n",
              "    }\n",
              "\n",
              "    .dataframe tbody tr th {\n",
              "        vertical-align: top;\n",
              "    }\n",
              "\n",
              "    .dataframe thead th {\n",
              "        text-align: right;\n",
              "    }\n",
              "</style>\n",
              "<table border=\"1\" class=\"dataframe\">\n",
              "  <thead>\n",
              "    <tr style=\"text-align: right;\">\n",
              "      <th></th>\n",
              "      <th>Close</th>\n",
              "    </tr>\n",
              "    <tr>\n",
              "      <th>Date</th>\n",
              "      <th></th>\n",
              "    </tr>\n",
              "  </thead>\n",
              "  <tbody>\n",
              "    <tr>\n",
              "      <th>2022-03-09</th>\n",
              "      <td>14.740492</td>\n",
              "    </tr>\n",
              "    <tr>\n",
              "      <th>2022-03-10</th>\n",
              "      <td>15.231791</td>\n",
              "    </tr>\n",
              "    <tr>\n",
              "      <th>2022-03-11</th>\n",
              "      <td>15.339025</td>\n",
              "    </tr>\n",
              "    <tr>\n",
              "      <th>2022-03-14</th>\n",
              "      <td>15.040317</td>\n",
              "    </tr>\n",
              "    <tr>\n",
              "      <th>2022-03-15</th>\n",
              "      <td>14.506045</td>\n",
              "    </tr>\n",
              "  </tbody>\n",
              "</table>\n",
              "</div>\n",
              "      <button class=\"colab-df-convert\" onclick=\"convertToInteractive('df-bf22e537-0a60-4805-8f58-d6436ee702f2')\"\n",
              "              title=\"Convert this dataframe to an interactive table.\"\n",
              "              style=\"display:none;\">\n",
              "        \n",
              "  <svg xmlns=\"http://www.w3.org/2000/svg\" height=\"24px\"viewBox=\"0 0 24 24\"\n",
              "       width=\"24px\">\n",
              "    <path d=\"M0 0h24v24H0V0z\" fill=\"none\"/>\n",
              "    <path d=\"M18.56 5.44l.94 2.06.94-2.06 2.06-.94-2.06-.94-.94-2.06-.94 2.06-2.06.94zm-11 1L8.5 8.5l.94-2.06 2.06-.94-2.06-.94L8.5 2.5l-.94 2.06-2.06.94zm10 10l.94 2.06.94-2.06 2.06-.94-2.06-.94-.94-2.06-.94 2.06-2.06.94z\"/><path d=\"M17.41 7.96l-1.37-1.37c-.4-.4-.92-.59-1.43-.59-.52 0-1.04.2-1.43.59L10.3 9.45l-7.72 7.72c-.78.78-.78 2.05 0 2.83L4 21.41c.39.39.9.59 1.41.59.51 0 1.02-.2 1.41-.59l7.78-7.78 2.81-2.81c.8-.78.8-2.07 0-2.86zM5.41 20L4 18.59l7.72-7.72 1.47 1.35L5.41 20z\"/>\n",
              "  </svg>\n",
              "      </button>\n",
              "      \n",
              "  <style>\n",
              "    .colab-df-container {\n",
              "      display:flex;\n",
              "      flex-wrap:wrap;\n",
              "      gap: 12px;\n",
              "    }\n",
              "\n",
              "    .colab-df-convert {\n",
              "      background-color: #E8F0FE;\n",
              "      border: none;\n",
              "      border-radius: 50%;\n",
              "      cursor: pointer;\n",
              "      display: none;\n",
              "      fill: #1967D2;\n",
              "      height: 32px;\n",
              "      padding: 0 0 0 0;\n",
              "      width: 32px;\n",
              "    }\n",
              "\n",
              "    .colab-df-convert:hover {\n",
              "      background-color: #E2EBFA;\n",
              "      box-shadow: 0px 1px 2px rgba(60, 64, 67, 0.3), 0px 1px 3px 1px rgba(60, 64, 67, 0.15);\n",
              "      fill: #174EA6;\n",
              "    }\n",
              "\n",
              "    [theme=dark] .colab-df-convert {\n",
              "      background-color: #3B4455;\n",
              "      fill: #D2E3FC;\n",
              "    }\n",
              "\n",
              "    [theme=dark] .colab-df-convert:hover {\n",
              "      background-color: #434B5C;\n",
              "      box-shadow: 0px 1px 3px 1px rgba(0, 0, 0, 0.15);\n",
              "      filter: drop-shadow(0px 1px 2px rgba(0, 0, 0, 0.3));\n",
              "      fill: #FFFFFF;\n",
              "    }\n",
              "  </style>\n",
              "\n",
              "      <script>\n",
              "        const buttonEl =\n",
              "          document.querySelector('#df-bf22e537-0a60-4805-8f58-d6436ee702f2 button.colab-df-convert');\n",
              "        buttonEl.style.display =\n",
              "          google.colab.kernel.accessAllowed ? 'block' : 'none';\n",
              "\n",
              "        async function convertToInteractive(key) {\n",
              "          const element = document.querySelector('#df-bf22e537-0a60-4805-8f58-d6436ee702f2');\n",
              "          const dataTable =\n",
              "            await google.colab.kernel.invokeFunction('convertToInteractive',\n",
              "                                                     [key], {});\n",
              "          if (!dataTable) return;\n",
              "\n",
              "          const docLinkHtml = 'Like what you see? Visit the ' +\n",
              "            '<a target=\"_blank\" href=https://colab.research.google.com/notebooks/data_table.ipynb>data table notebook</a>'\n",
              "            + ' to learn more about interactive tables.';\n",
              "          element.innerHTML = '';\n",
              "          dataTable['output_type'] = 'display_data';\n",
              "          await google.colab.output.renderOutput(dataTable, element);\n",
              "          const docLink = document.createElement('div');\n",
              "          docLink.innerHTML = docLinkHtml;\n",
              "          element.appendChild(docLink);\n",
              "        }\n",
              "      </script>\n",
              "    </div>\n",
              "  </div>\n",
              "  "
            ]
          },
          "metadata": {},
          "execution_count": 69
        }
      ]
    },
    {
      "cell_type": "code",
      "source": [
        "train.Close.plot(figsize = (15,7), title = 'Daily Analysis', fontsize = 20, \n",
        "                                                             label = 'Train')\n",
        "test.Close.plot(figsize = (15,7), title = 'Daily Analysis', fontsize =  20, \n",
        "                                                          label = 'Test')\n",
        "forecasted_LSTM.Close.plot(figsize = (15,7), title = 'Daily Analysis', \n",
        "                                                             fontsize =  20, \n",
        "                                                              label = 'LSTM')\n",
        "plt.xlabel('Datetime')\n",
        "plt.ylabel('USD')\n",
        "plt.legend(loc = 'best')"
      ],
      "metadata": {
        "colab": {
          "base_uri": "https://localhost:8080/",
          "height": 487
        },
        "id": "TOnYW6vEGm99",
        "outputId": "a5ed1735-24d5-4107-aff4-80684a92e3dd"
      },
      "execution_count": 70,
      "outputs": [
        {
          "output_type": "execute_result",
          "data": {
            "text/plain": [
              "<matplotlib.legend.Legend at 0x7f045a078a90>"
            ]
          },
          "metadata": {},
          "execution_count": 70
        },
        {
          "output_type": "display_data",
          "data": {
            "text/plain": [
              "<Figure size 1080x504 with 1 Axes>"
            ],
            "image/png": "[encoded data removed]"
          },
          "metadata": {
            "needs_background": "light"
          }
        }
      ]
    }
  ]
}