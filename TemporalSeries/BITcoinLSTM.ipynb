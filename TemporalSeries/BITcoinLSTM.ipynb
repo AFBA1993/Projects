{
  "nbformat": 4,
  "nbformat_minor": 0,
  "metadata": {
    "colab": {
      "name": "BIT_temp_series.ipynb",
      "provenance": [],
      "mount_file_id": "1s8f_OidX4SIYu3zoeQZefp83UKOV8_G8",
      "authorship_tag": "ABX9TyNdJMCnp59brW4mlN1Lnxgj",
      "include_colab_link": true
    },
    "kernelspec": {
      "name": "python3",
      "display_name": "Python 3"
    },
    "language_info": {
      "name": "python"
    }
  },
  "cells": [
    {
      "cell_type": "markdown",
      "metadata": {
        "id": "view-in-github",
        "colab_type": "text"
      },
      "source": [
        "<a href=\"https://colab.research.google.com/github/AFBA1993/Projects/blob/main/TemporalSeries/BITcoinLSTM.ipynb\" target=\"_parent\"><img src=\"https://colab.research.google.com/assets/colab-badge.svg\" alt=\"Open In Colab\"/></a>"
      ]
    },
    {
      "cell_type": "code",
      "execution_count": null,
      "metadata": {
        "id": "TOOZ7I3H8-Ue"
      },
      "outputs": [],
      "source": [
        "from keras.models import Sequential\n",
        "from keras.layers import Dense, LSTM, Dropout\n",
        "from sklearn.preprocessing import MinMaxScaler\n",
        "import numpy as np\n",
        "import pandas as pd\n",
        "import matplotlib.pyplot as plt"
      ]
    },
    {
      "cell_type": "markdown",
      "source": [
        "### **DATA PREPROCESSING**"
      ],
      "metadata": {
        "id": "wkYsByNsRd7k"
      }
    },
    {
      "cell_type": "code",
      "source": [
        "data = pd.read_csv(\"/content/drive/MyDrive/DatasetsTemporalSeries/Bitcoin.csv\")"
      ],
      "metadata": {
        "id": "X1de_vWHGiYO"
      },
      "execution_count": 24,
      "outputs": []
    },
    {
      "cell_type": "code",
      "source": [
        "data = data[[\"Close\", \"Timestamp\"]]"
      ],
      "metadata": {
        "id": "McNTPvpeG70e"
      },
      "execution_count": 25,
      "outputs": []
    },
    {
      "cell_type": "code",
      "source": [
        "data.isnull().sum()"
      ],
      "metadata": {
        "colab": {
          "base_uri": "https://localhost:8080/"
        },
        "id": "yVeW2bSOHGuu",
        "outputId": "650758ad-abe5-4366-ec03-0c66d253c722"
      },
      "execution_count": 26,
      "outputs": [
        {
          "output_type": "execute_result",
          "data": {
            "text/plain": [
              "Close        1243608\n",
              "Timestamp          0\n",
              "dtype: int64"
            ]
          },
          "metadata": {},
          "execution_count": 26
        }
      ]
    },
    {
      "cell_type": "code",
      "source": [
        "data.dropna(inplace = True)"
      ],
      "metadata": {
        "id": "bsP527JGHPJ2"
      },
      "execution_count": 27,
      "outputs": []
    },
    {
      "cell_type": "code",
      "source": [
        "data.index = pd.to_datetime(data[\"Timestamp\"].astype(int), unit='s')\n",
        "data.drop(\"Timestamp\", axis = 1, inplace =  True)\n",
        "data.tail()"
      ],
      "metadata": {
        "colab": {
          "base_uri": "https://localhost:8080/",
          "height": 238
        },
        "id": "LIgZltSpHYO6",
        "outputId": "6b1b7d42-b900-4326-bb1a-d48933900fa1"
      },
      "execution_count": 28,
      "outputs": [
        {
          "output_type": "execute_result",
          "data": {
            "text/html": [
              "\n",
              "  <div id=\"df-497b85a5-1653-4960-84e7-4e6465a941dc\">\n",
              "    <div class=\"colab-df-container\">\n",
              "      <div>\n",
              "<style scoped>\n",
              "    .dataframe tbody tr th:only-of-type {\n",
              "        vertical-align: middle;\n",
              "    }\n",
              "\n",
              "    .dataframe tbody tr th {\n",
              "        vertical-align: top;\n",
              "    }\n",
              "\n",
              "    .dataframe thead th {\n",
              "        text-align: right;\n",
              "    }\n",
              "</style>\n",
              "<table border=\"1\" class=\"dataframe\">\n",
              "  <thead>\n",
              "    <tr style=\"text-align: right;\">\n",
              "      <th></th>\n",
              "      <th>Close</th>\n",
              "    </tr>\n",
              "    <tr>\n",
              "      <th>Timestamp</th>\n",
              "      <th></th>\n",
              "    </tr>\n",
              "  </thead>\n",
              "  <tbody>\n",
              "    <tr>\n",
              "      <th>2021-03-30 23:56:00</th>\n",
              "      <td>58686.00</td>\n",
              "    </tr>\n",
              "    <tr>\n",
              "      <th>2021-03-30 23:57:00</th>\n",
              "      <td>58685.81</td>\n",
              "    </tr>\n",
              "    <tr>\n",
              "      <th>2021-03-30 23:58:00</th>\n",
              "      <td>58723.84</td>\n",
              "    </tr>\n",
              "    <tr>\n",
              "      <th>2021-03-30 23:59:00</th>\n",
              "      <td>58760.59</td>\n",
              "    </tr>\n",
              "    <tr>\n",
              "      <th>2021-03-31 00:00:00</th>\n",
              "      <td>58778.18</td>\n",
              "    </tr>\n",
              "  </tbody>\n",
              "</table>\n",
              "</div>\n",
              "      <button class=\"colab-df-convert\" onclick=\"convertToInteractive('df-497b85a5-1653-4960-84e7-4e6465a941dc')\"\n",
              "              title=\"Convert this dataframe to an interactive table.\"\n",
              "              style=\"display:none;\">\n",
              "        \n",
              "  <svg xmlns=\"http://www.w3.org/2000/svg\" height=\"24px\"viewBox=\"0 0 24 24\"\n",
              "       width=\"24px\">\n",
              "    <path d=\"M0 0h24v24H0V0z\" fill=\"none\"/>\n",
              "    <path d=\"M18.56 5.44l.94 2.06.94-2.06 2.06-.94-2.06-.94-.94-2.06-.94 2.06-2.06.94zm-11 1L8.5 8.5l.94-2.06 2.06-.94-2.06-.94L8.5 2.5l-.94 2.06-2.06.94zm10 10l.94 2.06.94-2.06 2.06-.94-2.06-.94-.94-2.06-.94 2.06-2.06.94z\"/><path d=\"M17.41 7.96l-1.37-1.37c-.4-.4-.92-.59-1.43-.59-.52 0-1.04.2-1.43.59L10.3 9.45l-7.72 7.72c-.78.78-.78 2.05 0 2.83L4 21.41c.39.39.9.59 1.41.59.51 0 1.02-.2 1.41-.59l7.78-7.78 2.81-2.81c.8-.78.8-2.07 0-2.86zM5.41 20L4 18.59l7.72-7.72 1.47 1.35L5.41 20z\"/>\n",
              "  </svg>\n",
              "      </button>\n",
              "      \n",
              "  <style>\n",
              "    .colab-df-container {\n",
              "      display:flex;\n",
              "      flex-wrap:wrap;\n",
              "      gap: 12px;\n",
              "    }\n",
              "\n",
              "    .colab-df-convert {\n",
              "      background-color: #E8F0FE;\n",
              "      border: none;\n",
              "      border-radius: 50%;\n",
              "      cursor: pointer;\n",
              "      display: none;\n",
              "      fill: #1967D2;\n",
              "      height: 32px;\n",
              "      padding: 0 0 0 0;\n",
              "      width: 32px;\n",
              "    }\n",
              "\n",
              "    .colab-df-convert:hover {\n",
              "      background-color: #E2EBFA;\n",
              "      box-shadow: 0px 1px 2px rgba(60, 64, 67, 0.3), 0px 1px 3px 1px rgba(60, 64, 67, 0.15);\n",
              "      fill: #174EA6;\n",
              "    }\n",
              "\n",
              "    [theme=dark] .colab-df-convert {\n",
              "      background-color: #3B4455;\n",
              "      fill: #D2E3FC;\n",
              "    }\n",
              "\n",
              "    [theme=dark] .colab-df-convert:hover {\n",
              "      background-color: #434B5C;\n",
              "      box-shadow: 0px 1px 3px 1px rgba(0, 0, 0, 0.15);\n",
              "      filter: drop-shadow(0px 1px 2px rgba(0, 0, 0, 0.3));\n",
              "      fill: #FFFFFF;\n",
              "    }\n",
              "  </style>\n",
              "\n",
              "      <script>\n",
              "        const buttonEl =\n",
              "          document.querySelector('#df-497b85a5-1653-4960-84e7-4e6465a941dc button.colab-df-convert');\n",
              "        buttonEl.style.display =\n",
              "          google.colab.kernel.accessAllowed ? 'block' : 'none';\n",
              "\n",
              "        async function convertToInteractive(key) {\n",
              "          const element = document.querySelector('#df-497b85a5-1653-4960-84e7-4e6465a941dc');\n",
              "          const dataTable =\n",
              "            await google.colab.kernel.invokeFunction('convertToInteractive',\n",
              "                                                     [key], {});\n",
              "          if (!dataTable) return;\n",
              "\n",
              "          const docLinkHtml = 'Like what you see? Visit the ' +\n",
              "            '<a target=\"_blank\" href=https://colab.research.google.com/notebooks/data_table.ipynb>data table notebook</a>'\n",
              "            + ' to learn more about interactive tables.';\n",
              "          element.innerHTML = '';\n",
              "          dataTable['output_type'] = 'display_data';\n",
              "          await google.colab.output.renderOutput(dataTable, element);\n",
              "          const docLink = document.createElement('div');\n",
              "          docLink.innerHTML = docLinkHtml;\n",
              "          element.appendChild(docLink);\n",
              "        }\n",
              "      </script>\n",
              "    </div>\n",
              "  </div>\n",
              "  "
            ],
            "text/plain": [
              "                        Close\n",
              "Timestamp                    \n",
              "2021-03-30 23:56:00  58686.00\n",
              "2021-03-30 23:57:00  58685.81\n",
              "2021-03-30 23:58:00  58723.84\n",
              "2021-03-30 23:59:00  58760.59\n",
              "2021-03-31 00:00:00  58778.18"
            ]
          },
          "metadata": {},
          "execution_count": 28
        }
      ]
    },
    {
      "cell_type": "code",
      "source": [
        "data_day = data.resample('D').mean()\n",
        "data_day.isnull().sum()"
      ],
      "metadata": {
        "colab": {
          "base_uri": "https://localhost:8080/"
        },
        "id": "zKU1MwQbH9aj",
        "outputId": "2a3856ff-8f94-4723-88d6-9b3c103d0196"
      },
      "execution_count": 29,
      "outputs": [
        {
          "output_type": "execute_result",
          "data": {
            "text/plain": [
              "Close    3\n",
              "dtype: int64"
            ]
          },
          "metadata": {},
          "execution_count": 29
        }
      ]
    },
    {
      "cell_type": "code",
      "source": [
        "data_day.dropna(inplace = True)"
      ],
      "metadata": {
        "id": "I8a1ubOtIUaT"
      },
      "execution_count": 30,
      "outputs": []
    },
    {
      "cell_type": "code",
      "source": [
        "train = data_day.loc['2011-12-31' : '2019-09-28'].copy()\n",
        "test = data_day.loc['2019-09-29' : '2021-03-31'].copy()"
      ],
      "metadata": {
        "id": "jucuADVGIg4j"
      },
      "execution_count": 33,
      "outputs": []
    },
    {
      "cell_type": "code",
      "source": [
        "train.Close.plot(figsize = (15,7), title = 'Daily Analysis', fontsize =14, \n",
        "                                                              label = 'Train')\n",
        "test.Close.plot(figsize = (15,7), title = 'Daily Analysis', fontsize =14, \n",
        "                                                          label = 'Test')\n",
        "plt.xlabel('Datetime')\n",
        "plt.ylabel('USD')\n",
        "plt.legend(loc = 'best')"
      ],
      "metadata": {
        "colab": {
          "base_uri": "https://localhost:8080/",
          "height": 458
        },
        "id": "0i2TzPDaKFJH",
        "outputId": "1514ab72-9090-4f29-8ed6-b6c587d13e10"
      },
      "execution_count": 34,
      "outputs": [
        {
          "output_type": "execute_result",
          "data": {
            "text/plain": [
              "<matplotlib.legend.Legend at 0x7f125dc51290>"
            ]
          },
          "metadata": {},
          "execution_count": 34
        },
        {
          "output_type": "display_data",
          "data": {
            "image/png": "[encoded data removed]",
            "text/plain": [
              "<Figure size 1080x504 with 1 Axes>"
            ]
          },
          "metadata": {
            "needs_background": "light"
          }
        }
      ]
    },
    {
      "cell_type": "code",
      "source": [
        "normalizer = MinMaxScaler(feature_range = (0,1))\n",
        "train_norm = normalizer.fit_transform(train)"
      ],
      "metadata": {
        "id": "RuIOLsRCK9AO"
      },
      "execution_count": 35,
      "outputs": []
    },
    {
      "cell_type": "code",
      "source": [
        "forecasters_train = []\n",
        "actual_value_train = []"
      ],
      "metadata": {
        "id": "oV1y7NnwLnsg"
      },
      "execution_count": 36,
      "outputs": []
    },
    {
      "cell_type": "code",
      "source": [
        "train.size"
      ],
      "metadata": {
        "colab": {
          "base_uri": "https://localhost:8080/"
        },
        "id": "uR8RsFwXMdtz",
        "outputId": "8e8fdeff-7be9-41b5-f8d4-a7974587c642"
      },
      "execution_count": 37,
      "outputs": [
        {
          "output_type": "execute_result",
          "data": {
            "text/plain": [
              "2826"
            ]
          },
          "metadata": {},
          "execution_count": 37
        }
      ]
    },
    {
      "cell_type": "code",
      "source": [
        "for i in range(100, 2826):\n",
        "  forecasters_train.append(train_norm[i-100:i,0])\n",
        "  actual_value_train.append(train_norm[i, 0])"
      ],
      "metadata": {
        "id": "mue1D1qVMcog"
      },
      "execution_count": 38,
      "outputs": []
    },
    {
      "cell_type": "code",
      "source": [
        "forecasters_train , actual_value_train = np.array(forecasters_train), \\\n",
        "                                         np.array(actual_value_train)"
      ],
      "metadata": {
        "id": "2Y4ZDZoSPt-0"
      },
      "execution_count": 39,
      "outputs": []
    },
    {
      "cell_type": "code",
      "source": [
        "print(forecasters_train.shape[0],\n",
        "      forecasters_train.shape[1])"
      ],
      "metadata": {
        "colab": {
          "base_uri": "https://localhost:8080/"
        },
        "id": "FU8fm0-0Qom3",
        "outputId": "8161a113-0c51-423e-9503-56083e4fd4e6"
      },
      "execution_count": 43,
      "outputs": [
        {
          "output_type": "stream",
          "name": "stdout",
          "text": [
            "2726 100\n"
          ]
        }
      ]
    },
    {
      "cell_type": "code",
      "source": [
        "forecasters_train = np.reshape(forecasters_train, (2726, 100, 1))"
      ],
      "metadata": {
        "id": "G6xySDW-QFqW"
      },
      "execution_count": 44,
      "outputs": []
    },
    {
      "cell_type": "markdown",
      "source": [
        "### **IMPLEMENTING LSTM:**"
      ],
      "metadata": {
        "id": "7mXRGc0pR1Qf"
      }
    },
    {
      "cell_type": "code",
      "source": [
        "regressor = Sequential()\n",
        "regressor.add(LSTM(units = 150, return_sequences = True,\n",
        "                   input_shape = (forecasters_train.shape[1], 1)))\n",
        "regressor.add(Dropout(0.3))"
      ],
      "metadata": {
        "id": "NbNsKZSYSD7K"
      },
      "execution_count": 45,
      "outputs": []
    },
    {
      "cell_type": "code",
      "source": [
        "regressor.add(LSTM(units = 50, return_sequences = True))\n",
        "regressor.add(Dropout(0.3))"
      ],
      "metadata": {
        "id": "2Bve_1beTa1h"
      },
      "execution_count": 46,
      "outputs": []
    },
    {
      "cell_type": "code",
      "source": [
        "regressor.add(LSTM(units = 50, return_sequences = True))\n",
        "regressor.add(Dropout(0.3))"
      ],
      "metadata": {
        "id": "45rvCYQ7Tfr1"
      },
      "execution_count": 47,
      "outputs": []
    },
    {
      "cell_type": "code",
      "source": [
        "regressor.add(LSTM(units = 50))\n",
        "regressor.add(Dropout(0.3))"
      ],
      "metadata": {
        "id": "BodSJgURTiNq"
      },
      "execution_count": 48,
      "outputs": []
    },
    {
      "cell_type": "code",
      "source": [
        "regressor.add(Dense(units = 1, activation = 'linear'))"
      ],
      "metadata": {
        "id": "0ZHyYiEZTuuB"
      },
      "execution_count": 49,
      "outputs": []
    },
    {
      "cell_type": "code",
      "source": [
        "regressor.compile(optimizer = 'rmsprop', loss = 'mse',\n",
        "                  metrics = ['mse'])"
      ],
      "metadata": {
        "id": "coKkTNRTT59j"
      },
      "execution_count": 50,
      "outputs": []
    },
    {
      "cell_type": "code",
      "source": [
        "regressor.fit(forecasters_train, actual_value_train, \n",
        "                      epochs = 100, batch_size = 32)"
      ],
      "metadata": {
        "colab": {
          "base_uri": "https://localhost:8080/"
        },
        "id": "3euDvX70UK8q",
        "outputId": "546876d5-adbb-4b60-cbd9-660fcd5f3392"
      },
      "execution_count": 51,
      "outputs": [
        {
          "output_type": "stream",
          "name": "stdout",
          "text": [
            "Epoch 1/100\n",
            "86/86 [==============================] - 31s 268ms/step - loss: 0.0069 - mse: 0.0069\n",
            "Epoch 2/100\n",
            "86/86 [==============================] - 23s 268ms/step - loss: 0.0034 - mse: 0.0034\n",
            "Epoch 3/100\n",
            "86/86 [==============================] - 23s 269ms/step - loss: 0.0028 - mse: 0.0028\n",
            "Epoch 4/100\n",
            "86/86 [==============================] - 23s 270ms/step - loss: 0.0026 - mse: 0.0026\n",
            "Epoch 5/100\n",
            "86/86 [==============================] - 23s 268ms/step - loss: 0.0022 - mse: 0.0022\n",
            "Epoch 6/100\n",
            "86/86 [==============================] - 23s 267ms/step - loss: 0.0021 - mse: 0.0021\n",
            "Epoch 7/100\n",
            "86/86 [==============================] - 23s 268ms/step - loss: 0.0017 - mse: 0.0017\n",
            "Epoch 8/100\n",
            "86/86 [==============================] - 23s 269ms/step - loss: 0.0019 - mse: 0.0019\n",
            "Epoch 9/100\n",
            "86/86 [==============================] - 23s 269ms/step - loss: 0.0016 - mse: 0.0016\n",
            "Epoch 10/100\n",
            "86/86 [==============================] - 23s 268ms/step - loss: 0.0015 - mse: 0.0015\n",
            "Epoch 11/100\n",
            "86/86 [==============================] - 23s 267ms/step - loss: 0.0015 - mse: 0.0015\n",
            "Epoch 12/100\n",
            "86/86 [==============================] - 23s 268ms/step - loss: 0.0015 - mse: 0.0015\n",
            "Epoch 13/100\n",
            "86/86 [==============================] - 23s 268ms/step - loss: 0.0014 - mse: 0.0014\n",
            "Epoch 14/100\n",
            "86/86 [==============================] - 23s 266ms/step - loss: 0.0013 - mse: 0.0013\n",
            "Epoch 15/100\n",
            "86/86 [==============================] - 23s 269ms/step - loss: 0.0014 - mse: 0.0014\n",
            "Epoch 16/100\n",
            "86/86 [==============================] - 23s 266ms/step - loss: 0.0014 - mse: 0.0014\n",
            "Epoch 17/100\n",
            "86/86 [==============================] - 23s 271ms/step - loss: 0.0014 - mse: 0.0014\n",
            "Epoch 18/100\n",
            "86/86 [==============================] - 23s 267ms/step - loss: 0.0014 - mse: 0.0014\n",
            "Epoch 19/100\n",
            "86/86 [==============================] - 23s 272ms/step - loss: 0.0012 - mse: 0.0012\n",
            "Epoch 20/100\n",
            "86/86 [==============================] - 23s 270ms/step - loss: 0.0011 - mse: 0.0011\n",
            "Epoch 21/100\n",
            "86/86 [==============================] - 23s 268ms/step - loss: 0.0012 - mse: 0.0012\n",
            "Epoch 22/100\n",
            "86/86 [==============================] - 23s 269ms/step - loss: 0.0012 - mse: 0.0012\n",
            "Epoch 23/100\n",
            "86/86 [==============================] - 23s 269ms/step - loss: 0.0011 - mse: 0.0011\n",
            "Epoch 24/100\n",
            "86/86 [==============================] - 23s 268ms/step - loss: 0.0011 - mse: 0.0011\n",
            "Epoch 25/100\n",
            "86/86 [==============================] - 23s 269ms/step - loss: 0.0010 - mse: 0.0010\n",
            "Epoch 26/100\n",
            "86/86 [==============================] - 23s 268ms/step - loss: 0.0011 - mse: 0.0011\n",
            "Epoch 27/100\n",
            "86/86 [==============================] - 23s 270ms/step - loss: 9.2413e-04 - mse: 9.2413e-04\n",
            "Epoch 28/100\n",
            "86/86 [==============================] - 23s 270ms/step - loss: 0.0011 - mse: 0.0011\n",
            "Epoch 29/100\n",
            "86/86 [==============================] - 23s 271ms/step - loss: 9.8061e-04 - mse: 9.8061e-04\n",
            "Epoch 30/100\n",
            "86/86 [==============================] - 23s 272ms/step - loss: 0.0011 - mse: 0.0011\n",
            "Epoch 31/100\n",
            "86/86 [==============================] - 23s 269ms/step - loss: 0.0011 - mse: 0.0011\n",
            "Epoch 32/100\n",
            "86/86 [==============================] - 23s 268ms/step - loss: 0.0010 - mse: 0.0010\n",
            "Epoch 33/100\n",
            "86/86 [==============================] - 23s 270ms/step - loss: 9.5998e-04 - mse: 9.5998e-04\n",
            "Epoch 34/100\n",
            "86/86 [==============================] - 23s 272ms/step - loss: 9.5483e-04 - mse: 9.5483e-04\n",
            "Epoch 35/100\n",
            "86/86 [==============================] - 23s 271ms/step - loss: 9.6397e-04 - mse: 9.6397e-04\n",
            "Epoch 36/100\n",
            "86/86 [==============================] - 23s 270ms/step - loss: 0.0011 - mse: 0.0011\n",
            "Epoch 37/100\n",
            "86/86 [==============================] - 23s 270ms/step - loss: 9.4515e-04 - mse: 9.4515e-04\n",
            "Epoch 38/100\n",
            "86/86 [==============================] - 23s 271ms/step - loss: 9.2282e-04 - mse: 9.2282e-04\n",
            "Epoch 39/100\n",
            "86/86 [==============================] - 23s 270ms/step - loss: 8.6997e-04 - mse: 8.6997e-04\n",
            "Epoch 40/100\n",
            "86/86 [==============================] - 23s 270ms/step - loss: 9.4992e-04 - mse: 9.4992e-04\n",
            "Epoch 41/100\n",
            "86/86 [==============================] - 23s 270ms/step - loss: 9.1449e-04 - mse: 9.1449e-04\n",
            "Epoch 42/100\n",
            "86/86 [==============================] - 23s 269ms/step - loss: 9.2142e-04 - mse: 9.2142e-04\n",
            "Epoch 43/100\n",
            "86/86 [==============================] - 23s 272ms/step - loss: 8.9052e-04 - mse: 8.9052e-04\n",
            "Epoch 44/100\n",
            "86/86 [==============================] - 23s 271ms/step - loss: 9.2352e-04 - mse: 9.2352e-04\n",
            "Epoch 45/100\n",
            "86/86 [==============================] - 23s 270ms/step - loss: 8.6216e-04 - mse: 8.6216e-04\n",
            "Epoch 46/100\n",
            "86/86 [==============================] - 23s 268ms/step - loss: 8.3191e-04 - mse: 8.3191e-04\n",
            "Epoch 47/100\n",
            "86/86 [==============================] - 23s 269ms/step - loss: 8.2883e-04 - mse: 8.2883e-04\n",
            "Epoch 48/100\n",
            "86/86 [==============================] - 23s 271ms/step - loss: 7.9340e-04 - mse: 7.9340e-04\n",
            "Epoch 49/100\n",
            "86/86 [==============================] - 23s 270ms/step - loss: 9.4096e-04 - mse: 9.4096e-04\n",
            "Epoch 50/100\n",
            "86/86 [==============================] - 23s 270ms/step - loss: 9.2931e-04 - mse: 9.2931e-04\n",
            "Epoch 51/100\n",
            "86/86 [==============================] - 23s 270ms/step - loss: 8.9430e-04 - mse: 8.9430e-04\n",
            "Epoch 52/100\n",
            "86/86 [==============================] - 23s 270ms/step - loss: 8.6903e-04 - mse: 8.6903e-04\n",
            "Epoch 53/100\n",
            "86/86 [==============================] - 23s 271ms/step - loss: 8.2743e-04 - mse: 8.2743e-04\n",
            "Epoch 54/100\n",
            "86/86 [==============================] - 23s 271ms/step - loss: 9.0091e-04 - mse: 9.0091e-04\n",
            "Epoch 55/100\n",
            "86/86 [==============================] - 23s 269ms/step - loss: 8.5658e-04 - mse: 8.5658e-04\n",
            "Epoch 56/100\n",
            "86/86 [==============================] - 23s 271ms/step - loss: 8.3299e-04 - mse: 8.3299e-04\n",
            "Epoch 57/100\n",
            "86/86 [==============================] - 23s 270ms/step - loss: 8.7180e-04 - mse: 8.7180e-04\n",
            "Epoch 58/100\n",
            "86/86 [==============================] - 23s 270ms/step - loss: 8.6448e-04 - mse: 8.6448e-04\n",
            "Epoch 59/100\n",
            "86/86 [==============================] - 23s 270ms/step - loss: 9.0446e-04 - mse: 9.0446e-04\n",
            "Epoch 60/100\n",
            "86/86 [==============================] - 23s 269ms/step - loss: 7.8421e-04 - mse: 7.8421e-04\n",
            "Epoch 61/100\n",
            "86/86 [==============================] - 23s 269ms/step - loss: 8.8619e-04 - mse: 8.8619e-04\n",
            "Epoch 62/100\n",
            "86/86 [==============================] - 23s 268ms/step - loss: 8.4509e-04 - mse: 8.4509e-04\n",
            "Epoch 63/100\n",
            "86/86 [==============================] - 23s 270ms/step - loss: 8.3803e-04 - mse: 8.3803e-04\n",
            "Epoch 64/100\n",
            "86/86 [==============================] - 23s 269ms/step - loss: 8.6468e-04 - mse: 8.6468e-04\n",
            "Epoch 65/100\n",
            "86/86 [==============================] - 23s 267ms/step - loss: 8.1466e-04 - mse: 8.1466e-04\n",
            "Epoch 66/100\n",
            "86/86 [==============================] - 23s 272ms/step - loss: 7.8286e-04 - mse: 7.8286e-04\n",
            "Epoch 67/100\n",
            "86/86 [==============================] - 23s 269ms/step - loss: 8.8768e-04 - mse: 8.8768e-04\n",
            "Epoch 68/100\n",
            "86/86 [==============================] - 23s 269ms/step - loss: 8.1700e-04 - mse: 8.1700e-04\n",
            "Epoch 69/100\n",
            "86/86 [==============================] - 23s 269ms/step - loss: 7.4525e-04 - mse: 7.4525e-04\n",
            "Epoch 70/100\n",
            "86/86 [==============================] - 23s 270ms/step - loss: 8.2333e-04 - mse: 8.2333e-04\n",
            "Epoch 71/100\n",
            "86/86 [==============================] - 23s 271ms/step - loss: 7.6971e-04 - mse: 7.6971e-04\n",
            "Epoch 72/100\n",
            "86/86 [==============================] - 23s 269ms/step - loss: 7.5440e-04 - mse: 7.5440e-04\n",
            "Epoch 73/100\n",
            "86/86 [==============================] - 23s 270ms/step - loss: 7.6835e-04 - mse: 7.6835e-04\n",
            "Epoch 74/100\n",
            "86/86 [==============================] - 23s 271ms/step - loss: 7.1384e-04 - mse: 7.1384e-04\n",
            "Epoch 75/100\n",
            "86/86 [==============================] - 23s 269ms/step - loss: 7.6577e-04 - mse: 7.6577e-04\n",
            "Epoch 76/100\n",
            "86/86 [==============================] - 23s 268ms/step - loss: 7.9238e-04 - mse: 7.9238e-04\n",
            "Epoch 77/100\n",
            "86/86 [==============================] - 23s 269ms/step - loss: 7.7626e-04 - mse: 7.7626e-04\n",
            "Epoch 78/100\n",
            "86/86 [==============================] - 23s 269ms/step - loss: 7.5555e-04 - mse: 7.5555e-04\n",
            "Epoch 79/100\n",
            "86/86 [==============================] - 23s 270ms/step - loss: 7.5772e-04 - mse: 7.5772e-04\n",
            "Epoch 80/100\n",
            "86/86 [==============================] - 23s 270ms/step - loss: 7.3770e-04 - mse: 7.3770e-04\n",
            "Epoch 81/100\n",
            "86/86 [==============================] - 23s 271ms/step - loss: 6.7275e-04 - mse: 6.7275e-04\n",
            "Epoch 82/100\n",
            "86/86 [==============================] - 23s 272ms/step - loss: 6.8421e-04 - mse: 6.8421e-04\n",
            "Epoch 83/100\n",
            "86/86 [==============================] - 23s 270ms/step - loss: 7.5732e-04 - mse: 7.5732e-04\n",
            "Epoch 84/100\n",
            "86/86 [==============================] - 23s 272ms/step - loss: 7.9700e-04 - mse: 7.9700e-04\n",
            "Epoch 85/100\n",
            "86/86 [==============================] - 24s 273ms/step - loss: 7.0508e-04 - mse: 7.0508e-04\n",
            "Epoch 86/100\n",
            "86/86 [==============================] - 23s 272ms/step - loss: 7.6217e-04 - mse: 7.6217e-04\n",
            "Epoch 87/100\n",
            "86/86 [==============================] - 23s 271ms/step - loss: 7.7224e-04 - mse: 7.7224e-04\n",
            "Epoch 88/100\n",
            "86/86 [==============================] - 23s 271ms/step - loss: 7.2030e-04 - mse: 7.2030e-04\n",
            "Epoch 89/100\n",
            "86/86 [==============================] - 23s 271ms/step - loss: 7.2538e-04 - mse: 7.2538e-04\n",
            "Epoch 90/100\n",
            "86/86 [==============================] - 23s 270ms/step - loss: 7.6911e-04 - mse: 7.6911e-04\n",
            "Epoch 91/100\n",
            "86/86 [==============================] - 23s 272ms/step - loss: 7.2825e-04 - mse: 7.2825e-04\n",
            "Epoch 92/100\n",
            "86/86 [==============================] - 24s 274ms/step - loss: 7.2494e-04 - mse: 7.2494e-04\n",
            "Epoch 93/100\n",
            "86/86 [==============================] - 23s 271ms/step - loss: 6.5639e-04 - mse: 6.5639e-04\n",
            "Epoch 94/100\n",
            "86/86 [==============================] - 23s 272ms/step - loss: 7.8413e-04 - mse: 7.8413e-04\n",
            "Epoch 95/100\n",
            "86/86 [==============================] - 24s 274ms/step - loss: 7.4437e-04 - mse: 7.4437e-04\n",
            "Epoch 96/100\n",
            "86/86 [==============================] - 23s 273ms/step - loss: 6.6266e-04 - mse: 6.6266e-04\n",
            "Epoch 97/100\n",
            "86/86 [==============================] - 23s 273ms/step - loss: 7.5028e-04 - mse: 7.5028e-04\n",
            "Epoch 98/100\n",
            "86/86 [==============================] - 23s 271ms/step - loss: 6.7230e-04 - mse: 6.7230e-04\n",
            "Epoch 99/100\n",
            "86/86 [==============================] - 23s 273ms/step - loss: 6.4624e-04 - mse: 6.4624e-04\n",
            "Epoch 100/100\n",
            "86/86 [==============================] - 23s 271ms/step - loss: 6.8518e-04 - mse: 6.8518e-04\n"
          ]
        },
        {
          "output_type": "execute_result",
          "data": {
            "text/plain": [
              "<keras.callbacks.History at 0x7f1259180150>"
            ]
          },
          "metadata": {},
          "execution_count": 51
        }
      ]
    },
    {
      "cell_type": "markdown",
      "source": [
        "### **TEST DATA PREPARATION:**"
      ],
      "metadata": {
        "id": "qyBTsCD7fOxY"
      }
    },
    {
      "cell_type": "code",
      "source": [
        "complete_data = pd.concat((train, test), axis = 0)"
      ],
      "metadata": {
        "id": "7fZG0OpCijFh"
      },
      "execution_count": 69,
      "outputs": []
    },
    {
      "cell_type": "code",
      "source": [
        "input_test = complete_data[len(complete_data) - len(test) - 100:]"
      ],
      "metadata": {
        "id": "8D4XShTJaAJh"
      },
      "execution_count": 71,
      "outputs": []
    },
    {
      "cell_type": "code",
      "source": [
        "input_test_norm = normalizer.transform(input_test)\n",
        "input_test_norm"
      ],
      "metadata": {
        "colab": {
          "base_uri": "https://localhost:8080/"
        },
        "id": "PRSzMN8NlBQg",
        "outputId": "ce51dcbb-3b46-496b-a31d-895eb5d2e699"
      },
      "execution_count": 73,
      "outputs": [
        {
          "output_type": "execute_result",
          "data": {
            "text/plain": [
              "array([[0.51069086],\n",
              "       [0.55880672],\n",
              "       [0.55993415],\n",
              "       [0.56502296],\n",
              "       [0.58949503],\n",
              "       [0.65877286],\n",
              "       [0.61501207],\n",
              "       [0.60845823],\n",
              "       [0.61745532],\n",
              "       [0.60125481],\n",
              "       [0.55683744],\n",
              "       [0.53688928],\n",
              "       [0.59113703],\n",
              "       [0.61272228],\n",
              "       [0.58045912],\n",
              "       [0.59478918],\n",
              "       [0.58937391],\n",
              "       [0.61450588],\n",
              "       [0.65202905],\n",
              "       [0.6591041 ],\n",
              "       [0.60357574],\n",
              "       [0.60363752],\n",
              "       [0.59550767],\n",
              "       [0.56571434],\n",
              "       [0.54283562],\n",
              "       [0.53954088],\n",
              "       [0.49895588],\n",
              "       [0.52376352],\n",
              "       [0.54565044],\n",
              "       [0.55648944],\n",
              "       [0.5511422 ],\n",
              "       [0.54450606],\n",
              "       [0.52472918],\n",
              "       [0.50553855],\n",
              "       [0.52193415],\n",
              "       [0.50927519],\n",
              "       [0.50686803],\n",
              "       [0.49418935],\n",
              "       [0.49703399],\n",
              "       [0.49707937],\n",
              "       [0.51360799],\n",
              "       [0.52545978],\n",
              "       [0.54578856],\n",
              "       [0.56192705],\n",
              "       [0.56379341],\n",
              "       [0.60835561],\n",
              "       [0.61263689],\n",
              "       [0.61023906],\n",
              "       [0.61493387],\n",
              "       [0.61588508],\n",
              "       [0.60332256],\n",
              "       [0.59286954],\n",
              "       [0.59374402],\n",
              "       [0.58032671],\n",
              "       [0.54390617],\n",
              "       [0.52164387],\n",
              "       [0.53307868],\n",
              "       [0.53647056],\n",
              "       [0.53626959],\n",
              "       [0.55310245],\n",
              "       [0.56018736],\n",
              "       [0.53101108],\n",
              "       [0.52327496],\n",
              "       [0.53464537],\n",
              "       [0.52895913],\n",
              "       [0.5260945 ],\n",
              "       [0.53889627],\n",
              "       [0.52991392],\n",
              "       [0.52310374],\n",
              "       [0.49585977],\n",
              "       [0.49662653],\n",
              "       [0.49964149],\n",
              "       [0.50136917],\n",
              "       [0.51826435],\n",
              "       [0.54809281],\n",
              "       [0.55023096],\n",
              "       [0.55028048],\n",
              "       [0.55524912],\n",
              "       [0.54294787],\n",
              "       [0.54482742],\n",
              "       [0.5365495 ],\n",
              "       [0.5323411 ],\n",
              "       [0.52414998],\n",
              "       [0.53230278],\n",
              "       [0.53729963],\n",
              "       [0.53862588],\n",
              "       [0.53733138],\n",
              "       [0.53400191],\n",
              "       [0.53218597],\n",
              "       [0.5310391 ],\n",
              "       [0.52036071],\n",
              "       [0.52996466],\n",
              "       [0.52284461],\n",
              "       [0.51972508],\n",
              "       [0.51444239],\n",
              "       [0.49082905],\n",
              "       [0.4400962 ],\n",
              "       [0.42973705],\n",
              "       [0.41868122],\n",
              "       [0.42489162],\n",
              "       [0.42044433],\n",
              "       [0.42042266],\n",
              "       [0.43550604],\n",
              "       [0.43005775],\n",
              "       [0.42942469],\n",
              "       [0.424329  ],\n",
              "       [0.42230399],\n",
              "       [0.41564585],\n",
              "       [0.41880065],\n",
              "       [0.42761363],\n",
              "       [0.43435916],\n",
              "       [0.44590488],\n",
              "       [0.43746772],\n",
              "       [0.43408478],\n",
              "       [0.4353845 ],\n",
              "       [0.43273536],\n",
              "       [0.43042997],\n",
              "       [0.4200452 ],\n",
              "       [0.41839737],\n",
              "       [0.41476742],\n",
              "       [0.41458809],\n",
              "       [0.41774353],\n",
              "       [0.42827849],\n",
              "       [0.42710182],\n",
              "       [0.40297114],\n",
              "       [0.38801865],\n",
              "       [0.41046125],\n",
              "       [0.48545658],\n",
              "       [0.4903517 ],\n",
              "       [0.4936236 ],\n",
              "       [0.48881716],\n",
              "       [0.47890338],\n",
              "       [0.47783153],\n",
              "       [0.47691506],\n",
              "       [0.48345957],\n",
              "       [0.48018876],\n",
              "       [0.4822245 ],\n",
              "       [0.48674572],\n",
              "       [0.48637183],\n",
              "       [0.48127907],\n",
              "       [0.46779945],\n",
              "       [0.45902002],\n",
              "       [0.46348366],\n",
              "       [0.45805945],\n",
              "       [0.45497985],\n",
              "       [0.45569806],\n",
              "       [0.45088821],\n",
              "       [0.44484831],\n",
              "       [0.44120255],\n",
              "       [0.44351155],\n",
              "       [0.43645378],\n",
              "       [0.42273616],\n",
              "       [0.42183228],\n",
              "       [0.40879825],\n",
              "       [0.38245488],\n",
              "       [0.37722533],\n",
              "       [0.37220878],\n",
              "       [0.36264295],\n",
              "       [0.37194639],\n",
              "       [0.3777481 ],\n",
              "       [0.39183576],\n",
              "       [0.3965089 ],\n",
              "       [0.39867665],\n",
              "       [0.3830238 ],\n",
              "       [0.38075628],\n",
              "       [0.38122047],\n",
              "       [0.37901493],\n",
              "       [0.38171819],\n",
              "       [0.38570099],\n",
              "       [0.39235719],\n",
              "       [0.39044367],\n",
              "       [0.38863153],\n",
              "       [0.38026814],\n",
              "       [0.3755816 ],\n",
              "       [0.37358626],\n",
              "       [0.37643245],\n",
              "       [0.37315176],\n",
              "       [0.36927831],\n",
              "       [0.36631133],\n",
              "       [0.35367344],\n",
              "       [0.35267275],\n",
              "       [0.37230952],\n",
              "       [0.37246744],\n",
              "       [0.37234377],\n",
              "       [0.37647551],\n",
              "       [0.39086307],\n",
              "       [0.38005529],\n",
              "       [0.37559996],\n",
              "       [0.37613529],\n",
              "       [0.374605  ],\n",
              "       [0.3801759 ],\n",
              "       [0.38262157],\n",
              "       [0.38014797],\n",
              "       [0.37497805],\n",
              "       [0.3748021 ],\n",
              "       [0.36838616],\n",
              "       [0.37597782],\n",
              "       [0.38138028],\n",
              "       [0.38701756],\n",
              "       [0.39243463],\n",
              "       [0.41306561],\n",
              "       [0.42900412],\n",
              "       [0.41143894],\n",
              "       [0.4108919 ],\n",
              "       [0.42263077],\n",
              "       [0.42253466],\n",
              "       [0.42207272],\n",
              "       [0.44667983],\n",
              "       [0.45547797],\n",
              "       [0.45183088],\n",
              "       [0.46116435],\n",
              "       [0.4631813 ],\n",
              "       [0.46087734],\n",
              "       [0.45031616],\n",
              "       [0.45039451],\n",
              "       [0.45142907],\n",
              "       [0.43945157],\n",
              "       [0.43671616],\n",
              "       [0.43346253],\n",
              "       [0.43912678],\n",
              "       [0.45440732],\n",
              "       [0.47100567],\n",
              "       [0.48606832],\n",
              "       [0.48813491],\n",
              "       [0.48665266],\n",
              "       [0.48822217],\n",
              "       [0.4884504 ],\n",
              "       [0.48602797],\n",
              "       [0.47940192],\n",
              "       [0.48978235],\n",
              "       [0.5046989 ],\n",
              "       [0.50930104],\n",
              "       [0.51120483],\n",
              "       [0.52513988],\n",
              "       [0.51686469],\n",
              "       [0.51872114],\n",
              "       [0.53885361],\n",
              "       [0.53583188],\n",
              "       [0.5345458 ],\n",
              "       [0.52845097],\n",
              "       [0.51596195],\n",
              "       [0.50632642],\n",
              "       [0.51290934],\n",
              "       [0.52611257],\n",
              "       [0.4991813 ],\n",
              "       [0.50477526],\n",
              "       [0.50324547],\n",
              "       [0.5141727 ],\n",
              "       [0.50714326],\n",
              "       [0.49436308],\n",
              "       [0.47057813],\n",
              "       [0.45820159],\n",
              "       [0.45312291],\n",
              "       [0.45249109],\n",
              "       [0.44578833],\n",
              "       [0.45565813],\n",
              "       [0.4579233 ],\n",
              "       [0.45637295],\n",
              "       [0.46986372],\n",
              "       [0.47394257],\n",
              "       [0.47164261],\n",
              "       [0.44641604],\n",
              "       [0.41056475],\n",
              "       [0.41400529],\n",
              "       [0.40888937],\n",
              "       [0.34725864],\n",
              "       [0.27577448],\n",
              "       [0.28177827],\n",
              "       [0.27606294],\n",
              "       [0.25961295],\n",
              "       [0.27672149],\n",
              "       [0.2752632 ],\n",
              "       [0.30025701],\n",
              "       [0.33134858],\n",
              "       [0.32130604],\n",
              "       [0.31937055],\n",
              "       [0.31800882],\n",
              "       [0.34653045],\n",
              "       [0.34700548],\n",
              "       [0.3475085 ],\n",
              "       [0.34855381],\n",
              "       [0.32436417],\n",
              "       [0.31793636],\n",
              "       [0.32677468],\n",
              "       [0.33602058],\n",
              "       [0.32856799],\n",
              "       [0.35024895],\n",
              "       [0.35495966],\n",
              "       [0.35278021],\n",
              "       [0.3540016 ],\n",
              "       [0.36940627],\n",
              "       [0.38119782],\n",
              "       [0.38038568],\n",
              "       [0.38051326],\n",
              "       [0.36321231],\n",
              "       [0.35788834],\n",
              "       [0.36221045],\n",
              "       [0.35168568],\n",
              "       [0.35860637],\n",
              "       [0.35413882],\n",
              "       [0.36015902],\n",
              "       [0.36838839],\n",
              "       [0.37265963],\n",
              "       [0.37333232],\n",
              "       [0.36725776],\n",
              "       [0.35769987],\n",
              "       [0.36494037],\n",
              "       [0.3804595 ],\n",
              "       [0.39180923],\n",
              "       [0.39300152],\n",
              "       [0.39606248],\n",
              "       [0.40192036],\n",
              "       [0.40271931],\n",
              "       [0.42955911],\n",
              "       [0.46337592],\n",
              "       [0.45762998],\n",
              "       [0.46226912],\n",
              "       [0.46779996],\n",
              "       [0.4570049 ],\n",
              "       [0.4652585 ],\n",
              "       [0.47739891],\n",
              "       [0.49452172],\n",
              "       [0.51708614],\n",
              "       [0.50677891],\n",
              "       [0.45257234],\n",
              "       [0.45359348],\n",
              "       [0.45708797],\n",
              "       [0.47124671],\n",
              "       [0.49894302],\n",
              "       [0.49617766],\n",
              "       [0.48987921],\n",
              "       [0.50150719],\n",
              "       [0.50648235],\n",
              "       [0.5037909 ],\n",
              "       [0.50382743],\n",
              "       [0.48343647],\n",
              "       [0.47535457],\n",
              "       [0.47956371],\n",
              "       [0.47504947],\n",
              "       [0.45942066],\n",
              "       [0.4615231 ],\n",
              "       [0.4704097 ],\n",
              "       [0.48559163],\n",
              "       [0.49252611],\n",
              "       [0.49527588],\n",
              "       [0.49732521],\n",
              "       [0.49933107],\n",
              "       [0.51475004],\n",
              "       [0.4976154 ],\n",
              "       [0.50536102],\n",
              "       [0.50754075],\n",
              "       [0.50204508],\n",
              "       [0.50108186],\n",
              "       [0.50665549],\n",
              "       [0.50599832],\n",
              "       [0.50994333],\n",
              "       [0.50222484],\n",
              "       [0.49030502],\n",
              "       [0.49110044],\n",
              "       [0.48986045],\n",
              "       [0.48160464],\n",
              "       [0.49458033],\n",
              "       [0.49193302],\n",
              "       [0.49004167],\n",
              "       [0.48588578],\n",
              "       [0.48456762],\n",
              "       [0.48702428],\n",
              "       [0.49400089],\n",
              "       [0.50213661],\n",
              "       [0.4916458 ],\n",
              "       [0.48093873],\n",
              "       [0.47828726],\n",
              "       [0.47439929],\n",
              "       [0.47179333],\n",
              "       [0.47490644],\n",
              "       [0.47672114],\n",
              "       [0.47886309],\n",
              "       [0.47751869],\n",
              "       [0.47375109],\n",
              "       [0.47363799],\n",
              "       [0.47208963],\n",
              "       [0.48011662],\n",
              "       [0.48287343],\n",
              "       [0.48692751],\n",
              "       [0.48592826],\n",
              "       [0.47929858],\n",
              "       [0.48129961],\n",
              "       [0.48184716],\n",
              "       [0.48336711],\n",
              "       [0.48031872],\n",
              "       [0.4803968 ],\n",
              "       [0.47566604],\n",
              "       [0.4758825 ],\n",
              "       [0.47730372],\n",
              "       [0.47691212],\n",
              "       [0.47811033],\n",
              "       [0.484949  ],\n",
              "       [0.48794095],\n",
              "       [0.49705997],\n",
              "       [0.4979022 ],\n",
              "       [0.50113939],\n",
              "       [0.51235377],\n",
              "       [0.54371562],\n",
              "       [0.57235494],\n",
              "       [0.57812168],\n",
              "       [0.57485103],\n",
              "       [0.58333744],\n",
              "       [0.60492328],\n",
              "       [0.59049599],\n",
              "       [0.58639217],\n",
              "       [0.58576783],\n",
              "       [0.59732403],\n",
              "       [0.61247368],\n",
              "       [0.61043406],\n",
              "       [0.6088056 ],\n",
              "       [0.60811249],\n",
              "       [0.61995442],\n",
              "       [0.60604241],\n",
              "       [0.59721096],\n",
              "       [0.60179646],\n",
              "       [0.61244133],\n",
              "       [0.61879481],\n",
              "       [0.61742517],\n",
              "       [0.62812099],\n",
              "       [0.63376027],\n",
              "       [0.61464149],\n",
              "       [0.61471376],\n",
              "       [0.61186732],\n",
              "       [0.60224891],\n",
              "       [0.60556246],\n",
              "       [0.61131569],\n",
              "       [0.59948211],\n",
              "       [0.59418084],\n",
              "       [0.59109391],\n",
              "       [0.59614048],\n",
              "       [0.59951279],\n",
              "       [0.60481052],\n",
              "       [0.60876034],\n",
              "       [0.61865688],\n",
              "       [0.60313307],\n",
              "       [0.57512277],\n",
              "       [0.5413781 ],\n",
              "       [0.53495721],\n",
              "       [0.53146583],\n",
              "       [0.52928564],\n",
              "       [0.52861827],\n",
              "       [0.53075364],\n",
              "       [0.53864403],\n",
              "       [0.53675156],\n",
              "       [0.5404069 ],\n",
              "       [0.54146897],\n",
              "       [0.54760928],\n",
              "       [0.56129779],\n",
              "       [0.56760726],\n",
              "       [0.56748435],\n",
              "       [0.56918168],\n",
              "       [0.57378748],\n",
              "       [0.56866579],\n",
              "       [0.5562286 ],\n",
              "       [0.54534545],\n",
              "       [0.54333209],\n",
              "       [0.54428034],\n",
              "       [0.5559492 ],\n",
              "       [0.55829447],\n",
              "       [0.55836886],\n",
              "       [0.56675848],\n",
              "       [0.55899139],\n",
              "       [0.55960011],\n",
              "       [0.56034845],\n",
              "       [0.54852038],\n",
              "       [0.54962542],\n",
              "       [0.55249081],\n",
              "       [0.55772759],\n",
              "       [0.55740417],\n",
              "       [0.55333475],\n",
              "       [0.55923875],\n",
              "       [0.57221227],\n",
              "       [0.59051162],\n",
              "       [0.59187497],\n",
              "       [0.59640351],\n",
              "       [0.59654167],\n",
              "       [0.59421708],\n",
              "       [0.59470846],\n",
              "       [0.59210497],\n",
              "       [0.59100006],\n",
              "       [0.59525441],\n",
              "       [0.60369345],\n",
              "       [0.61716015],\n",
              "       [0.64914337],\n",
              "       [0.67384457],\n",
              "       [0.67385051],\n",
              "       [0.67892729],\n",
              "       [0.68024033],\n",
              "       [0.68084296],\n",
              "       [0.69651458],\n",
              "       [0.7005282 ],\n",
              "       [0.69458015],\n",
              "       [0.70004911],\n",
              "       [0.71580033],\n",
              "       [0.71741898],\n",
              "       [0.70844363],\n",
              "       [0.70927767],\n",
              "       [0.7242267 ],\n",
              "       [0.76753671],\n",
              "       [0.81200293],\n",
              "       [0.79945519],\n",
              "       [0.79212097],\n",
              "       [0.80150467],\n",
              "       [0.7986161 ],\n",
              "       [0.81251507],\n",
              "       [0.82998183],\n",
              "       [0.84890176],\n",
              "       [0.83524415],\n",
              "       [0.83350394],\n",
              "       [0.85313403],\n",
              "       [0.89021383],\n",
              "       [0.93198216],\n",
              "       [0.92982518],\n",
              "       [0.95551992],\n",
              "       [0.97507495],\n",
              "       [0.96046813],\n",
              "       [0.9613194 ],\n",
              "       [0.9829086 ],\n",
              "       [0.9930111 ],\n",
              "       [0.90624293],\n",
              "       [0.88521414],\n",
              "       [0.90211771],\n",
              "       [0.93748546],\n",
              "       [0.98559552],\n",
              "       [1.00395764],\n",
              "       [0.98766743],\n",
              "       [1.00483315],\n",
              "       [0.99648453],\n",
              "       [0.9899355 ],\n",
              "       [0.99760671],\n",
              "       [1.00046744],\n",
              "       [0.98708395],\n",
              "       [0.95183113],\n",
              "       [0.95378562],\n",
              "       [0.93469436],\n",
              "       [0.9625314 ],\n",
              "       [0.99597818],\n",
              "       [0.99849072],\n",
              "       [1.00844164],\n",
              "       [1.04626926],\n",
              "       [1.17862863],\n",
              "       [1.19257581],\n",
              "       [1.21739078],\n",
              "       [1.22956787],\n",
              "       [1.2121299 ],\n",
              "       [1.20366799],\n",
              "       [1.2262279 ],\n",
              "       [1.20992961],\n",
              "       [1.25153611],\n",
              "       [1.31679802],\n",
              "       [1.40945839],\n",
              "       [1.40523311],\n",
              "       [1.38989684],\n",
              "       [1.4665934 ],\n",
              "       [1.50514258],\n",
              "       [1.52637224],\n",
              "       [1.60302231],\n",
              "       [1.74417886],\n",
              "       [1.66015979],\n",
              "       [1.68196624],\n",
              "       [1.8192044 ],\n",
              "       [1.98411114],\n",
              "       [2.07480921],\n",
              "       [2.10542378],\n",
              "       [2.0706001 ],\n",
              "       [1.78651164],\n",
              "       [1.81583212],\n",
              "       [1.80715774],\n",
              "       [2.00704749],\n",
              "       [1.95292851],\n",
              "       [1.92020726],\n",
              "       [1.85810073],\n",
              "       [1.87868395],\n",
              "       [1.92100225],\n",
              "       [1.83212228],\n",
              "       [1.7173497 ],\n",
              "       [1.66045971],\n",
              "       [1.68612377],\n",
              "       [1.67940896],\n",
              "       [1.73810204],\n",
              "       [1.66750917],\n",
              "       [1.62322197],\n",
              "       [1.65687699],\n",
              "       [1.82684019],\n",
              "       [1.77475247],\n",
              "       [1.74326338],\n",
              "       [1.75661276],\n",
              "       [1.80907236],\n",
              "       [1.90598637],\n",
              "       [1.95647486],\n",
              "       [1.9611763 ],\n",
              "       [2.07498963],\n",
              "       [2.01759632],\n",
              "       [2.14713569],\n",
              "       [2.4331023 ],\n",
              "       [2.38699984],\n",
              "       [2.41169419],\n",
              "       [2.48104125],\n",
              "       [2.4638951 ],\n",
              "       [2.53299049],\n",
              "       [2.49450434],\n",
              "       [2.54577702],\n",
              "       [2.65354161],\n",
              "       [2.70468245],\n",
              "       [2.76674677],\n",
              "       [2.93283857],\n",
              "       [2.97295213],\n",
              "       [2.85142125],\n",
              "       [2.55216597],\n",
              "       [2.59548658],\n",
              "       [2.60521449],\n",
              "       [2.43183978],\n",
              "       [2.45646701],\n",
              "       [2.33599133],\n",
              "       [2.48307695],\n",
              "       [2.53397766],\n",
              "       [2.62837068],\n",
              "       [2.57467714],\n",
              "       [2.4869563 ],\n",
              "       [2.52111056],\n",
              "       [2.61729014],\n",
              "       [2.64750949],\n",
              "       [2.8133367 ],\n",
              "       [2.8861172 ],\n",
              "       [2.93282196],\n",
              "       [2.9617586 ],\n",
              "       [3.06487484],\n",
              "       [3.15097097],\n",
              "       [2.99737853],\n",
              "       [2.88436045],\n",
              "       [2.92697626],\n",
              "       [3.04759199],\n",
              "       [3.03774911],\n",
              "       [3.06366669],\n",
              "       [2.98717576],\n",
              "       [2.95971408],\n",
              "       [2.85113805],\n",
              "       [2.87305598],\n",
              "       [2.7166373 ],\n",
              "       [2.77487584],\n",
              "       [2.87663181],\n",
              "       [2.90996847],\n",
              "       [2.96629166],\n",
              "       [3.0410194 ],\n",
              "       [3.06337021]])"
            ]
          },
          "metadata": {},
          "execution_count": 73
        }
      ]
    },
    {
      "cell_type": "code",
      "source": [
        "input_test_norm.shape"
      ],
      "metadata": {
        "colab": {
          "base_uri": "https://localhost:8080/"
        },
        "id": "G5IX-pMQmE52",
        "outputId": "80bca6ce-910a-4403-c707-2b3bf3309572"
      },
      "execution_count": 76,
      "outputs": [
        {
          "output_type": "execute_result",
          "data": {
            "text/plain": [
              "(650, 1)"
            ]
          },
          "metadata": {},
          "execution_count": 76
        }
      ]
    },
    {
      "cell_type": "code",
      "source": [
        "X_test = []\n",
        "for i in range(100,650):\n",
        "  X_test.append(input_test_norm[i-100:i,0])\n",
        "X_test = np.array(X_test)\n",
        "X_test = np.reshape(X_test, (X_test.shape[0], X_test.shape[1],1))"
      ],
      "metadata": {
        "id": "U2BabF7ZlwYG"
      },
      "execution_count": 78,
      "outputs": []
    },
    {
      "cell_type": "markdown",
      "source": [
        "### **FORECAST AND DATA VISUALIZATION:**"
      ],
      "metadata": {
        "id": "hbUT_M2jw9Wb"
      }
    },
    {
      "cell_type": "code",
      "source": [
        "predicted_test = regressor.predict(X_test)\n",
        "predicted_test = normalizer.inverse_transform(predicted_test)"
      ],
      "metadata": {
        "id": "8ppKtrctmZLg"
      },
      "execution_count": 79,
      "outputs": []
    },
    {
      "cell_type": "code",
      "source": [
        "len(predicted_test)"
      ],
      "metadata": {
        "id": "b2r2koCun-IG",
        "outputId": "dbbf1a24-d811-4dde-e195-de86fd66189d",
        "colab": {
          "base_uri": "https://localhost:8080/"
        }
      },
      "execution_count": 84,
      "outputs": [
        {
          "output_type": "execute_result",
          "data": {
            "text/plain": [
              "550"
            ]
          },
          "metadata": {},
          "execution_count": 84
        }
      ]
    },
    {
      "cell_type": "code",
      "source": [
        "forecasted_LSTM = pd.DataFrame(predicted_test, columns = ['Close'])"
      ],
      "metadata": {
        "id": "gc1wQiECpwaz"
      },
      "execution_count": 92,
      "outputs": []
    },
    {
      "cell_type": "code",
      "source": [
        "forecasted_LSTM[\"Timestamp\"] = test.index"
      ],
      "metadata": {
        "id": "YW7idbX7rZqW"
      },
      "execution_count": 94,
      "outputs": []
    },
    {
      "cell_type": "code",
      "source": [
        "forecasted_LSTM"
      ],
      "metadata": {
        "id": "1l_S-acsrqes",
        "outputId": "23f6a350-f2e7-45ff-d295-a4e487bc69a7",
        "colab": {
          "base_uri": "https://localhost:8080/",
          "height": 424
        }
      },
      "execution_count": 95,
      "outputs": [
        {
          "output_type": "execute_result",
          "data": {
            "text/html": [
              "\n",
              "  <div id=\"df-f31b65f1-0932-41bd-8ccf-f8b21e2ab0e4\">\n",
              "    <div class=\"colab-df-container\">\n",
              "      <div>\n",
              "<style scoped>\n",
              "    .dataframe tbody tr th:only-of-type {\n",
              "        vertical-align: middle;\n",
              "    }\n",
              "\n",
              "    .dataframe tbody tr th {\n",
              "        vertical-align: top;\n",
              "    }\n",
              "\n",
              "    .dataframe thead th {\n",
              "        text-align: right;\n",
              "    }\n",
              "</style>\n",
              "<table border=\"1\" class=\"dataframe\">\n",
              "  <thead>\n",
              "    <tr style=\"text-align: right;\">\n",
              "      <th></th>\n",
              "      <th>Close</th>\n",
              "      <th>Timestamp</th>\n",
              "    </tr>\n",
              "  </thead>\n",
              "  <tbody>\n",
              "    <tr>\n",
              "      <th>0</th>\n",
              "      <td>7669.382812</td>\n",
              "      <td>2019-09-29</td>\n",
              "    </tr>\n",
              "    <tr>\n",
              "      <th>1</th>\n",
              "      <td>7621.984863</td>\n",
              "      <td>2019-09-30</td>\n",
              "    </tr>\n",
              "    <tr>\n",
              "      <th>2</th>\n",
              "      <td>7609.041016</td>\n",
              "      <td>2019-10-01</td>\n",
              "    </tr>\n",
              "    <tr>\n",
              "      <th>3</th>\n",
              "      <td>7862.250977</td>\n",
              "      <td>2019-10-02</td>\n",
              "    </tr>\n",
              "    <tr>\n",
              "      <th>4</th>\n",
              "      <td>7813.487793</td>\n",
              "      <td>2019-10-03</td>\n",
              "    </tr>\n",
              "    <tr>\n",
              "      <th>...</th>\n",
              "      <td>...</td>\n",
              "      <td>...</td>\n",
              "    </tr>\n",
              "    <tr>\n",
              "      <th>545</th>\n",
              "      <td>16785.816406</td>\n",
              "      <td>2021-03-27</td>\n",
              "    </tr>\n",
              "    <tr>\n",
              "      <th>546</th>\n",
              "      <td>20552.796875</td>\n",
              "      <td>2021-03-28</td>\n",
              "    </tr>\n",
              "    <tr>\n",
              "      <th>547</th>\n",
              "      <td>16345.025391</td>\n",
              "      <td>2021-03-29</td>\n",
              "    </tr>\n",
              "    <tr>\n",
              "      <th>548</th>\n",
              "      <td>20121.828125</td>\n",
              "      <td>2021-03-30</td>\n",
              "    </tr>\n",
              "    <tr>\n",
              "      <th>549</th>\n",
              "      <td>16191.003906</td>\n",
              "      <td>2021-03-31</td>\n",
              "    </tr>\n",
              "  </tbody>\n",
              "</table>\n",
              "<p>550 rows × 2 columns</p>\n",
              "</div>\n",
              "      <button class=\"colab-df-convert\" onclick=\"convertToInteractive('df-f31b65f1-0932-41bd-8ccf-f8b21e2ab0e4')\"\n",
              "              title=\"Convert this dataframe to an interactive table.\"\n",
              "              style=\"display:none;\">\n",
              "        \n",
              "  <svg xmlns=\"http://www.w3.org/2000/svg\" height=\"24px\"viewBox=\"0 0 24 24\"\n",
              "       width=\"24px\">\n",
              "    <path d=\"M0 0h24v24H0V0z\" fill=\"none\"/>\n",
              "    <path d=\"M18.56 5.44l.94 2.06.94-2.06 2.06-.94-2.06-.94-.94-2.06-.94 2.06-2.06.94zm-11 1L8.5 8.5l.94-2.06 2.06-.94-2.06-.94L8.5 2.5l-.94 2.06-2.06.94zm10 10l.94 2.06.94-2.06 2.06-.94-2.06-.94-.94-2.06-.94 2.06-2.06.94z\"/><path d=\"M17.41 7.96l-1.37-1.37c-.4-.4-.92-.59-1.43-.59-.52 0-1.04.2-1.43.59L10.3 9.45l-7.72 7.72c-.78.78-.78 2.05 0 2.83L4 21.41c.39.39.9.59 1.41.59.51 0 1.02-.2 1.41-.59l7.78-7.78 2.81-2.81c.8-.78.8-2.07 0-2.86zM5.41 20L4 18.59l7.72-7.72 1.47 1.35L5.41 20z\"/>\n",
              "  </svg>\n",
              "      </button>\n",
              "      \n",
              "  <style>\n",
              "    .colab-df-container {\n",
              "      display:flex;\n",
              "      flex-wrap:wrap;\n",
              "      gap: 12px;\n",
              "    }\n",
              "\n",
              "    .colab-df-convert {\n",
              "      background-color: #E8F0FE;\n",
              "      border: none;\n",
              "      border-radius: 50%;\n",
              "      cursor: pointer;\n",
              "      display: none;\n",
              "      fill: #1967D2;\n",
              "      height: 32px;\n",
              "      padding: 0 0 0 0;\n",
              "      width: 32px;\n",
              "    }\n",
              "\n",
              "    .colab-df-convert:hover {\n",
              "      background-color: #E2EBFA;\n",
              "      box-shadow: 0px 1px 2px rgba(60, 64, 67, 0.3), 0px 1px 3px 1px rgba(60, 64, 67, 0.15);\n",
              "      fill: #174EA6;\n",
              "    }\n",
              "\n",
              "    [theme=dark] .colab-df-convert {\n",
              "      background-color: #3B4455;\n",
              "      fill: #D2E3FC;\n",
              "    }\n",
              "\n",
              "    [theme=dark] .colab-df-convert:hover {\n",
              "      background-color: #434B5C;\n",
              "      box-shadow: 0px 1px 3px 1px rgba(0, 0, 0, 0.15);\n",
              "      filter: drop-shadow(0px 1px 2px rgba(0, 0, 0, 0.3));\n",
              "      fill: #FFFFFF;\n",
              "    }\n",
              "  </style>\n",
              "\n",
              "      <script>\n",
              "        const buttonEl =\n",
              "          document.querySelector('#df-f31b65f1-0932-41bd-8ccf-f8b21e2ab0e4 button.colab-df-convert');\n",
              "        buttonEl.style.display =\n",
              "          google.colab.kernel.accessAllowed ? 'block' : 'none';\n",
              "\n",
              "        async function convertToInteractive(key) {\n",
              "          const element = document.querySelector('#df-f31b65f1-0932-41bd-8ccf-f8b21e2ab0e4');\n",
              "          const dataTable =\n",
              "            await google.colab.kernel.invokeFunction('convertToInteractive',\n",
              "                                                     [key], {});\n",
              "          if (!dataTable) return;\n",
              "\n",
              "          const docLinkHtml = 'Like what you see? Visit the ' +\n",
              "            '<a target=\"_blank\" href=https://colab.research.google.com/notebooks/data_table.ipynb>data table notebook</a>'\n",
              "            + ' to learn more about interactive tables.';\n",
              "          element.innerHTML = '';\n",
              "          dataTable['output_type'] = 'display_data';\n",
              "          await google.colab.output.renderOutput(dataTable, element);\n",
              "          const docLink = document.createElement('div');\n",
              "          docLink.innerHTML = docLinkHtml;\n",
              "          element.appendChild(docLink);\n",
              "        }\n",
              "      </script>\n",
              "    </div>\n",
              "  </div>\n",
              "  "
            ],
            "text/plain": [
              "            Close  Timestamp\n",
              "0     7669.382812 2019-09-29\n",
              "1     7621.984863 2019-09-30\n",
              "2     7609.041016 2019-10-01\n",
              "3     7862.250977 2019-10-02\n",
              "4     7813.487793 2019-10-03\n",
              "..            ...        ...\n",
              "545  16785.816406 2021-03-27\n",
              "546  20552.796875 2021-03-28\n",
              "547  16345.025391 2021-03-29\n",
              "548  20121.828125 2021-03-30\n",
              "549  16191.003906 2021-03-31\n",
              "\n",
              "[550 rows x 2 columns]"
            ]
          },
          "metadata": {},
          "execution_count": 95
        }
      ]
    },
    {
      "cell_type": "code",
      "source": [
        "forecasted_LSTM.index = pd.to_datetime(forecasted_LSTM[\"Timestamp\"])\n",
        "forecasted_LSTM.drop(\"Timestamp\", axis = 1, inplace =  True)\n",
        "forecasted_LSTM.tail()"
      ],
      "metadata": {
        "id": "uzIbgrNxr82-",
        "outputId": "e8cbda60-fde6-46fd-fc16-74dc2626f573",
        "colab": {
          "base_uri": "https://localhost:8080/",
          "height": 238
        }
      },
      "execution_count": 98,
      "outputs": [
        {
          "output_type": "execute_result",
          "data": {
            "text/html": [
              "\n",
              "  <div id=\"df-f2e67c33-96d3-4069-9d2a-037964e208bd\">\n",
              "    <div class=\"colab-df-container\">\n",
              "      <div>\n",
              "<style scoped>\n",
              "    .dataframe tbody tr th:only-of-type {\n",
              "        vertical-align: middle;\n",
              "    }\n",
              "\n",
              "    .dataframe tbody tr th {\n",
              "        vertical-align: top;\n",
              "    }\n",
              "\n",
              "    .dataframe thead th {\n",
              "        text-align: right;\n",
              "    }\n",
              "</style>\n",
              "<table border=\"1\" class=\"dataframe\">\n",
              "  <thead>\n",
              "    <tr style=\"text-align: right;\">\n",
              "      <th></th>\n",
              "      <th>Close</th>\n",
              "    </tr>\n",
              "    <tr>\n",
              "      <th>Timestamp</th>\n",
              "      <th></th>\n",
              "    </tr>\n",
              "  </thead>\n",
              "  <tbody>\n",
              "    <tr>\n",
              "      <th>2021-03-27</th>\n",
              "      <td>16785.816406</td>\n",
              "    </tr>\n",
              "    <tr>\n",
              "      <th>2021-03-28</th>\n",
              "      <td>20552.796875</td>\n",
              "    </tr>\n",
              "    <tr>\n",
              "      <th>2021-03-29</th>\n",
              "      <td>16345.025391</td>\n",
              "    </tr>\n",
              "    <tr>\n",
              "      <th>2021-03-30</th>\n",
              "      <td>20121.828125</td>\n",
              "    </tr>\n",
              "    <tr>\n",
              "      <th>2021-03-31</th>\n",
              "      <td>16191.003906</td>\n",
              "    </tr>\n",
              "  </tbody>\n",
              "</table>\n",
              "</div>\n",
              "      <button class=\"colab-df-convert\" onclick=\"convertToInteractive('df-f2e67c33-96d3-4069-9d2a-037964e208bd')\"\n",
              "              title=\"Convert this dataframe to an interactive table.\"\n",
              "              style=\"display:none;\">\n",
              "        \n",
              "  <svg xmlns=\"http://www.w3.org/2000/svg\" height=\"24px\"viewBox=\"0 0 24 24\"\n",
              "       width=\"24px\">\n",
              "    <path d=\"M0 0h24v24H0V0z\" fill=\"none\"/>\n",
              "    <path d=\"M18.56 5.44l.94 2.06.94-2.06 2.06-.94-2.06-.94-.94-2.06-.94 2.06-2.06.94zm-11 1L8.5 8.5l.94-2.06 2.06-.94-2.06-.94L8.5 2.5l-.94 2.06-2.06.94zm10 10l.94 2.06.94-2.06 2.06-.94-2.06-.94-.94-2.06-.94 2.06-2.06.94z\"/><path d=\"M17.41 7.96l-1.37-1.37c-.4-.4-.92-.59-1.43-.59-.52 0-1.04.2-1.43.59L10.3 9.45l-7.72 7.72c-.78.78-.78 2.05 0 2.83L4 21.41c.39.39.9.59 1.41.59.51 0 1.02-.2 1.41-.59l7.78-7.78 2.81-2.81c.8-.78.8-2.07 0-2.86zM5.41 20L4 18.59l7.72-7.72 1.47 1.35L5.41 20z\"/>\n",
              "  </svg>\n",
              "      </button>\n",
              "      \n",
              "  <style>\n",
              "    .colab-df-container {\n",
              "      display:flex;\n",
              "      flex-wrap:wrap;\n",
              "      gap: 12px;\n",
              "    }\n",
              "\n",
              "    .colab-df-convert {\n",
              "      background-color: #E8F0FE;\n",
              "      border: none;\n",
              "      border-radius: 50%;\n",
              "      cursor: pointer;\n",
              "      display: none;\n",
              "      fill: #1967D2;\n",
              "      height: 32px;\n",
              "      padding: 0 0 0 0;\n",
              "      width: 32px;\n",
              "    }\n",
              "\n",
              "    .colab-df-convert:hover {\n",
              "      background-color: #E2EBFA;\n",
              "      box-shadow: 0px 1px 2px rgba(60, 64, 67, 0.3), 0px 1px 3px 1px rgba(60, 64, 67, 0.15);\n",
              "      fill: #174EA6;\n",
              "    }\n",
              "\n",
              "    [theme=dark] .colab-df-convert {\n",
              "      background-color: #3B4455;\n",
              "      fill: #D2E3FC;\n",
              "    }\n",
              "\n",
              "    [theme=dark] .colab-df-convert:hover {\n",
              "      background-color: #434B5C;\n",
              "      box-shadow: 0px 1px 3px 1px rgba(0, 0, 0, 0.15);\n",
              "      filter: drop-shadow(0px 1px 2px rgba(0, 0, 0, 0.3));\n",
              "      fill: #FFFFFF;\n",
              "    }\n",
              "  </style>\n",
              "\n",
              "      <script>\n",
              "        const buttonEl =\n",
              "          document.querySelector('#df-f2e67c33-96d3-4069-9d2a-037964e208bd button.colab-df-convert');\n",
              "        buttonEl.style.display =\n",
              "          google.colab.kernel.accessAllowed ? 'block' : 'none';\n",
              "\n",
              "        async function convertToInteractive(key) {\n",
              "          const element = document.querySelector('#df-f2e67c33-96d3-4069-9d2a-037964e208bd');\n",
              "          const dataTable =\n",
              "            await google.colab.kernel.invokeFunction('convertToInteractive',\n",
              "                                                     [key], {});\n",
              "          if (!dataTable) return;\n",
              "\n",
              "          const docLinkHtml = 'Like what you see? Visit the ' +\n",
              "            '<a target=\"_blank\" href=https://colab.research.google.com/notebooks/data_table.ipynb>data table notebook</a>'\n",
              "            + ' to learn more about interactive tables.';\n",
              "          element.innerHTML = '';\n",
              "          dataTable['output_type'] = 'display_data';\n",
              "          await google.colab.output.renderOutput(dataTable, element);\n",
              "          const docLink = document.createElement('div');\n",
              "          docLink.innerHTML = docLinkHtml;\n",
              "          element.appendChild(docLink);\n",
              "        }\n",
              "      </script>\n",
              "    </div>\n",
              "  </div>\n",
              "  "
            ],
            "text/plain": [
              "                   Close\n",
              "Timestamp               \n",
              "2021-03-27  16785.816406\n",
              "2021-03-28  20552.796875\n",
              "2021-03-29  16345.025391\n",
              "2021-03-30  20121.828125\n",
              "2021-03-31  16191.003906"
            ]
          },
          "metadata": {},
          "execution_count": 98
        }
      ]
    },
    {
      "cell_type": "code",
      "source": [
        "train.Close.plot(figsize = (15,7), title = 'Daily Analysis', fontsize = 20, \n",
        "                                                             label = 'Train')\n",
        "test.Close.plot(figsize = (15,7), title = 'Daily Analysis', fontsize =  20, \n",
        "                                                          label = 'Test')\n",
        "forecasted_LSTM.Close.plot(figsize = (15,7), title = 'Daily Analysis', \n",
        "                                                             fontsize =  20, \n",
        "                                                              label = 'LSTM')\n",
        "plt.xlabel('Datetime')\n",
        "plt.ylabel('USD')\n",
        "plt.legend(loc = 'best')"
      ],
      "metadata": {
        "id": "2hRpfNPutOcM",
        "outputId": "71eabf28-fcbf-48de-ffcf-4c545241243c",
        "colab": {
          "base_uri": "https://localhost:8080/",
          "height": 471
        }
      },
      "execution_count": 101,
      "outputs": [
        {
          "output_type": "execute_result",
          "data": {
            "text/plain": [
              "<matplotlib.legend.Legend at 0x7f12585b86d0>"
            ]
          },
          "metadata": {},
          "execution_count": 101
        },
        {
          "output_type": "display_data",
          "data": {
            "image/png": "[encoded data removed]",
            "text/plain": [
              "<Figure size 1080x504 with 1 Axes>"
            ]
          },
          "metadata": {
            "needs_background": "light"
          }
        }
      ]
    },
    {
      "cell_type": "code",
      "source": [
        "test.Close.plot(figsize = (15,7), title = 'Daily Analysis', fontsize =  20, \n",
        "                                                          label = 'Test')\n",
        "forecasted_LSTM.Close.plot(figsize = (15,7), title = 'Daily Analysis', \n",
        "                                                             fontsize =  20, \n",
        "                                                              label = 'LSTM')\n",
        "plt.xlim('2020-01-01','2021-01-01')\n",
        "plt.ylim( 0,40000)\n",
        "plt.xlabel('Datetime')\n",
        "plt.ylabel('USD')\n",
        "plt.legend(loc = 'best')"
      ],
      "metadata": {
        "colab": {
          "base_uri": "https://localhost:8080/",
          "height": 507
        },
        "id": "m0VM5zlnnGNV",
        "outputId": "266c8814-7363-46a1-899c-696473332ced"
      },
      "execution_count": 107,
      "outputs": [
        {
          "output_type": "execute_result",
          "data": {
            "text/plain": [
              "<matplotlib.legend.Legend at 0x7f1251d5ac50>"
            ]
          },
          "metadata": {},
          "execution_count": 107
        },
        {
          "output_type": "display_data",
          "data": {
            "image/png": "[encoded data removed]",
            "text/plain": [
              "<Figure size 1080x504 with 1 Axes>"
            ]
          },
          "metadata": {
            "needs_background": "light"
          }
        }
      ]
    },
    {
      "cell_type": "code",
      "source": [
        "test.plot"
      ],
      "metadata": {
        "id": "Kkdm4q3bolBV",
        "outputId": "65f13095-65ed-4fc1-f621-855559bd6cd1",
        "colab": {
          "base_uri": "https://localhost:8080/"
        }
      },
      "execution_count": 90,
      "outputs": [
        {
          "output_type": "execute_result",
          "data": {
            "text/plain": [
              "<pandas.plotting._core.PlotAccessor object at 0x7f1258864550>"
            ]
          },
          "metadata": {},
          "execution_count": 90
        }
      ]
    }
  ]
}